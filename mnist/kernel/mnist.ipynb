{
 "cells": [
  {
   "cell_type": "markdown",
   "metadata": {},
   "source": [
    "## To do:\n",
    "\n",
    "1. Visualize the input data\n",
    "2. Build a simple single layer network\n",
    "3. Train it\n",
    "3. Visualize the neuron activation patterns"
   ]
  },
  {
   "cell_type": "markdown",
   "metadata": {},
   "source": [
    "## Input data\n",
    "\n",
    "Input is provided via a CSV where each row describes a 28x28 grayscale image, each column lists pixels going from top-left, left-to-right. Training data has an additional label column prepended."
   ]
  },
  {
   "cell_type": "code",
   "execution_count": 1,
   "metadata": {
    "collapsed": true
   },
   "outputs": [],
   "source": [
    "import numpy as np\n",
    "\n",
    "IMAGE_SIZE = 28\n",
    "IMAGE_COUNT = 10\n",
    "PIXEL_COUNT = IMAGE_SIZE ** 2\n",
    "\n",
    "# TODO: load actual data and labels\n",
    "data = np.random.random((IMAGE_COUNT, PIXEL_COUNT))\n",
    "labels = np.random.randint(IMAGE_COUNT, size=(IMAGE_COUNT, 1))"
   ]
  },
  {
   "cell_type": "markdown",
   "metadata": {},
   "source": [
    "## Model"
   ]
  },
  {
   "cell_type": "code",
   "execution_count": 2,
   "metadata": {},
   "outputs": [
    {
     "name": "stderr",
     "output_type": "stream",
     "text": [
      "Using Theano backend.\n"
     ]
    }
   ],
   "source": [
    "from keras.models import Sequential\n",
    "from keras.layers import Dense, Activation\n",
    "\n",
    "model = Sequential()\n",
    "\n",
    "# Input layer\n",
    "model.add(Dense(32, input_shape=(28 * 28,)))\n",
    "model.add(Activation('relu'))\n",
    "\n",
    "# Hidden layers\n",
    "\n",
    "# Output layer\n",
    "model.add(Dense(10))\n",
    "model.add(Activation('softmax'))"
   ]
  },
  {
   "cell_type": "code",
   "execution_count": 3,
   "metadata": {
    "collapsed": true
   },
   "outputs": [],
   "source": [
    "# Compile the model\n",
    "model.compile(\n",
    "    optimizer='rmsprop',\n",
    "    loss='categorical_crossentropy',\n",
    "    metrics=['accuracy'],\n",
    ")"
   ]
  },
  {
   "cell_type": "markdown",
   "metadata": {},
   "source": [
    "## Training"
   ]
  },
  {
   "cell_type": "code",
   "execution_count": 4,
   "metadata": {},
   "outputs": [
    {
     "name": "stdout",
     "output_type": "stream",
     "text": [
      "Epoch 1/10\n",
      "10/10 [==============================] - 0s - loss: 2.4857 - acc: 0.2000\n",
      "Epoch 2/10\n",
      "10/10 [==============================] - 0s - loss: 1.9392 - acc: 0.2000\n",
      "Epoch 3/10\n",
      "10/10 [==============================] - 0s - loss: 1.7917 - acc: 0.3000\n",
      "Epoch 4/10\n",
      "10/10 [==============================] - 0s - loss: 1.5393 - acc: 0.7000\n",
      "Epoch 5/10\n",
      "10/10 [==============================] - 0s - loss: 1.3773 - acc: 0.6000\n",
      "Epoch 6/10\n",
      "10/10 [==============================] - 0s - loss: 1.2575 - acc: 1.0000\n",
      "Epoch 7/10\n",
      "10/10 [==============================] - 0s - loss: 1.1252 - acc: 0.8000\n",
      "Epoch 8/10\n",
      "10/10 [==============================] - 0s - loss: 1.0380 - acc: 1.0000\n",
      "Epoch 9/10\n",
      "10/10 [==============================] - 0s - loss: 0.9403 - acc: 1.0000\n",
      "Epoch 10/10\n",
      "10/10 [==============================] - 0s - loss: 0.8665 - acc: 1.0000\n"
     ]
    }
   ],
   "source": [
    "from keras import utils\n",
    "\n",
    "WEIGHTS_PATH = '../weights/mnist.h5'\n",
    "\n",
    "# Load weights\n",
    "# model.load_weights(WEIGHTS_PATH)\n",
    "\n",
    "# Convert labels to categorical one-hot encoding\n",
    "one_hot_labels = utils.to_categorical(labels, num_classes=10)\n",
    "\n",
    "# Train the model, iterating on the data in batches of 32 samples\n",
    "model.fit(data, one_hot_labels, epochs=10, batch_size=32)\n",
    "\n",
    "# Save weights\n",
    "model.save_weights(WEIGHTS_PATH)"
   ]
  },
  {
   "cell_type": "markdown",
   "metadata": {},
   "source": [
    "## Weights vizualization"
   ]
  }
 ],
 "metadata": {
  "kernelspec": {
   "display_name": "Python 3",
   "language": "python",
   "name": "python3"
  },
  "language_info": {
   "codemirror_mode": {
    "name": "ipython",
    "version": 3
   },
   "file_extension": ".py",
   "mimetype": "text/x-python",
   "name": "python",
   "nbconvert_exporter": "python",
   "pygments_lexer": "ipython3",
   "version": "3.5.2"
  }
 },
 "nbformat": 4,
 "nbformat_minor": 2
}
