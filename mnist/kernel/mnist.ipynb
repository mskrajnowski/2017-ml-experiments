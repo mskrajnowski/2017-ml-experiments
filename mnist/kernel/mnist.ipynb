{
 "cells": [
  {
   "cell_type": "code",
   "execution_count": 1,
   "metadata": {
    "collapsed": true
   },
   "outputs": [],
   "source": [
    "import numpy as np\n",
    "import pandas as pd\n",
    "from IPython.display import display\n",
    "import matplotlib.pyplot as plt\n",
    "\n",
    "%matplotlib inline"
   ]
  },
  {
   "cell_type": "code",
   "execution_count": 2,
   "metadata": {
    "collapsed": true
   },
   "outputs": [],
   "source": [
    "IMAGE_SIZE = 28\n",
    "PIXEL_COUNT = IMAGE_SIZE ** 2\n",
    "\n",
    "TRAIN_DATA_PATH = '../input/train.csv'\n",
    "TEST_DATA_PATH = '../input/test.csv'\n",
    "WEIGHTS_PATH = '../output/weights.h5'\n",
    "PREDICTIONS_PATH = '../output/predictions.csv'"
   ]
  },
  {
   "cell_type": "code",
   "execution_count": 8,
   "metadata": {},
   "outputs": [
    {
     "data": {
      "text/plain": [
       "array([[1, 0, 0, ..., 0, 0, 0],\n",
       "       [0, 0, 0, ..., 0, 0, 0],\n",
       "       [1, 0, 0, ..., 0, 0, 0],\n",
       "       [4, 0, 0, ..., 0, 0, 0],\n",
       "       [0, 0, 0, ..., 0, 0, 0]])"
      ]
     },
     "metadata": {},
     "output_type": "display_data"
    }
   ],
   "source": [
    "full_train_data = pd.read_csv(TRAIN_DATA_PATH).as_matrix()\n",
    "\n",
    "display(full_train_data[:5])"
   ]
  },
  {
   "cell_type": "code",
   "execution_count": 530,
   "metadata": {
    "scrolled": false
   },
   "outputs": [
    {
     "data": {
      "text/plain": [
       "array([1, 0, 1, 4, 0])"
      ]
     },
     "metadata": {},
     "output_type": "display_data"
    },
    {
     "data": {
      "text/plain": [
       "array([[0, 0, 0, ..., 0, 0, 0],\n",
       "       [0, 0, 0, ..., 0, 0, 0],\n",
       "       [0, 0, 0, ..., 0, 0, 0],\n",
       "       [0, 0, 0, ..., 0, 0, 0],\n",
       "       [0, 0, 0, ..., 0, 0, 0]])"
      ]
     },
     "metadata": {},
     "output_type": "display_data"
    }
   ],
   "source": [
    "train_data = full_train_data[:1000]\n",
    "train_labels, train_data = train_data[:, :1].flatten(), train_data[:, 1:]\n",
    "\n",
    "display(train_labels[:5])\n",
    "display(train_data[:5])"
   ]
  },
  {
   "cell_type": "code",
   "execution_count": 531,
   "metadata": {},
   "outputs": [
    {
     "data": {
      "text/plain": [
       "array([[[0, 0, 0, ..., 0, 0, 0],\n",
       "        [0, 0, 0, ..., 0, 0, 0],\n",
       "        [0, 0, 0, ..., 0, 0, 0],\n",
       "        ..., \n",
       "        [0, 0, 0, ..., 0, 0, 0],\n",
       "        [0, 0, 0, ..., 0, 0, 0],\n",
       "        [0, 0, 0, ..., 0, 0, 0]],\n",
       "\n",
       "       [[0, 0, 0, ..., 0, 0, 0],\n",
       "        [0, 0, 0, ..., 0, 0, 0],\n",
       "        [0, 0, 0, ..., 0, 0, 0],\n",
       "        ..., \n",
       "        [0, 0, 0, ..., 0, 0, 0],\n",
       "        [0, 0, 0, ..., 0, 0, 0],\n",
       "        [0, 0, 0, ..., 0, 0, 0]],\n",
       "\n",
       "       [[0, 0, 0, ..., 0, 0, 0],\n",
       "        [0, 0, 0, ..., 0, 0, 0],\n",
       "        [0, 0, 0, ..., 0, 0, 0],\n",
       "        ..., \n",
       "        [0, 0, 0, ..., 0, 0, 0],\n",
       "        [0, 0, 0, ..., 0, 0, 0],\n",
       "        [0, 0, 0, ..., 0, 0, 0]],\n",
       "\n",
       "       [[0, 0, 0, ..., 0, 0, 0],\n",
       "        [0, 0, 0, ..., 0, 0, 0],\n",
       "        [0, 0, 0, ..., 0, 0, 0],\n",
       "        ..., \n",
       "        [0, 0, 0, ..., 0, 0, 0],\n",
       "        [0, 0, 0, ..., 0, 0, 0],\n",
       "        [0, 0, 0, ..., 0, 0, 0]],\n",
       "\n",
       "       [[0, 0, 0, ..., 0, 0, 0],\n",
       "        [0, 0, 0, ..., 0, 0, 0],\n",
       "        [0, 0, 0, ..., 0, 0, 0],\n",
       "        ..., \n",
       "        [0, 0, 0, ..., 0, 0, 0],\n",
       "        [0, 0, 0, ..., 0, 0, 0],\n",
       "        [0, 0, 0, ..., 0, 0, 0]]])"
      ]
     },
     "execution_count": 531,
     "metadata": {},
     "output_type": "execute_result"
    }
   ],
   "source": [
    "train_images = train_data.reshape(train_data.shape[0], IMAGE_SIZE, IMAGE_SIZE)\n",
    "train_images[:5]"
   ]
  },
  {
   "cell_type": "code",
   "execution_count": 532,
   "metadata": {},
   "outputs": [],
   "source": [
    "def display_images(images, labels):\n",
    "    figure = plt.figure(figsize=(12, 24))\n",
    "    \n",
    "    for i, (label, image) in enumerate(zip(labels, images)):\n",
    "        image_plot = figure.add_subplot(1, len(images), i + 1)\n",
    "        image_plot.set_title(label, fontsize=18)\n",
    "        image_plot.imshow(image, interpolation=None, cmap='gray')"
   ]
  },
  {
   "cell_type": "code",
   "execution_count": 533,
   "metadata": {},
   "outputs": [
    {
     "data": {
      "image/png": "[encoded data removed]",
      "text/plain": [
       "<matplotlib.figure.Figure at 0x7fbf40702ef0>"
      ]
     },
     "metadata": {},
     "output_type": "display_data"
    }
   ],
   "source": [
    "display_images(train_images[:5], train_labels[:5])"
   ]
  },
  {
   "cell_type": "code",
   "execution_count": 534,
   "metadata": {},
   "outputs": [
    {
     "data": {
      "text/plain": [
       "(800, 28, 28)"
      ]
     },
     "metadata": {},
     "output_type": "display_data"
    },
    {
     "data": {
      "text/plain": [
       "(200, 28, 28)"
      ]
     },
     "metadata": {},
     "output_type": "display_data"
    },
    {
     "data": {
      "image/png": "[encoded data removed]",
      "text/plain": [
       "<matplotlib.figure.Figure at 0x7fbf4090cba8>"
      ]
     },
     "metadata": {},
     "output_type": "display_data"
    },
    {
     "data": {
      "image/png": "[encoded data removed]",
      "text/plain": [
       "<matplotlib.figure.Figure at 0x7fbf4058a358>"
      ]
     },
     "metadata": {},
     "output_type": "display_data"
    }
   ],
   "source": [
    "validation_size = int(len(train_images) * 0.2)\n",
    "validation_images = train_images[-validation_size:]\n",
    "validation_labels = train_labels[-validation_size:]\n",
    "train_images = train_images[:-validation_size]\n",
    "train_labels = train_labels[:-validation_size]\n",
    "\n",
    "display(train_images.shape)\n",
    "display_images(train_images[:5], train_labels[:5])\n",
    "display(validation_images.shape)\n",
    "display_images(validation_images[:5], validation_labels[:5])"
   ]
  },
  {
   "cell_type": "markdown",
   "metadata": {},
   "source": [
    "## Simple model"
   ]
  },
  {
   "cell_type": "code",
   "execution_count": 535,
   "metadata": {},
   "outputs": [
    {
     "name": "stdout",
     "output_type": "stream",
     "text": [
      "_________________________________________________________________\n",
      "Layer (type)                 Output Shape              Param #   \n",
      "=================================================================\n",
      "flatten_50 (Flatten)         (None, 784)               0         \n",
      "_________________________________________________________________\n",
      "dense_113 (Dense)            (None, 32)                25120     \n",
      "_________________________________________________________________\n",
      "activation_113 (Activation)  (None, 32)                0         \n",
      "_________________________________________________________________\n",
      "dense_114 (Dense)            (None, 10)                330       \n",
      "_________________________________________________________________\n",
      "activation_114 (Activation)  (None, 10)                0         \n",
      "=================================================================\n",
      "Total params: 25,450\n",
      "Trainable params: 25,450\n",
      "Non-trainable params: 0\n",
      "_________________________________________________________________\n"
     ]
    }
   ],
   "source": [
    "from keras.models import Sequential\n",
    "from keras.layers import Dense, Activation, Flatten\n",
    "\n",
    "simple = Sequential([\n",
    "    # Preprocess\n",
    "    Flatten(input_shape=(IMAGE_SIZE, IMAGE_SIZE)),\n",
    "    \n",
    "    # Input layer\n",
    "    Dense(32),\n",
    "    Activation('relu'),\n",
    "    \n",
    "    # Output layer\n",
    "    Dense(10),\n",
    "    Activation('softmax'),\n",
    "])\n",
    "\n",
    "simple.summary()"
   ]
  },
  {
   "cell_type": "code",
   "execution_count": 536,
   "metadata": {},
   "outputs": [],
   "source": [
    "simple.compile(\n",
    "    optimizer='adam',\n",
    "    loss='categorical_crossentropy',\n",
    "    metrics=['accuracy'],\n",
    ")"
   ]
  },
  {
   "cell_type": "code",
   "execution_count": 537,
   "metadata": {
    "collapsed": true
   },
   "outputs": [],
   "source": [
    "from keras import utils\n",
    "\n",
    "# Convert labels to categorical one-hot encoding\n",
    "train_labels_onehot = utils.to_categorical(train_labels, num_classes=10)\n",
    "validation_labels_onehot = utils.to_categorical(validation_labels, num_classes=10)"
   ]
  },
  {
   "cell_type": "code",
   "execution_count": 538,
   "metadata": {},
   "outputs": [
    {
     "name": "stdout",
     "output_type": "stream",
     "text": [
      "Train on 800 samples, validate on 200 samples\n",
      "Epoch 1/5\n",
      "800/800 [==============================] - 0s - loss: 13.9529 - acc: 0.1313 - val_loss: 13.1362 - val_acc: 0.1850\n",
      "Epoch 2/5\n",
      "800/800 [==============================] - 0s - loss: 13.3552 - acc: 0.1700 - val_loss: 12.7637 - val_acc: 0.2050\n",
      "Epoch 3/5\n",
      "800/800 [==============================] - 0s - loss: 13.2021 - acc: 0.1800 - val_loss: 12.6981 - val_acc: 0.2100\n",
      "Epoch 4/5\n",
      "800/800 [==============================] - 0s - loss: 13.2113 - acc: 0.1800 - val_loss: 12.9751 - val_acc: 0.1950\n",
      "Epoch 5/5\n",
      "800/800 [==============================] - 0s - loss: 13.3395 - acc: 0.1712 - val_loss: 12.8945 - val_acc: 0.2000\n"
     ]
    },
    {
     "data": {
      "text/plain": [
       "<keras.callbacks.History at 0x7fbf3feb7da0>"
      ]
     },
     "execution_count": 538,
     "metadata": {},
     "output_type": "execute_result"
    }
   ],
   "source": [
    "simple.fit(\n",
    "    train_images,\n",
    "    train_labels_onehot,\n",
    "    epochs=5,\n",
    "    batch_size=32,\n",
    "    validation_data=(validation_images, validation_labels_onehot),\n",
    ")"
   ]
  },
  {
   "cell_type": "code",
   "execution_count": 539,
   "metadata": {},
   "outputs": [
    {
     "name": "stdout",
     "output_type": "stream",
     "text": [
      "Train on 800 samples, validate on 200 samples\n",
      "Epoch 1/5\n",
      "800/800 [==============================] - 0s - loss: 13.3642 - acc: 0.1700 - val_loss: 12.6527 - val_acc: 0.2150\n",
      "Epoch 2/5\n",
      "800/800 [==============================] - 0s - loss: 12.8313 - acc: 0.1975 - val_loss: 11.7331 - val_acc: 0.2650\n",
      "Epoch 3/5\n",
      "800/800 [==============================] - 0s - loss: 12.0679 - acc: 0.2475 - val_loss: 10.9316 - val_acc: 0.3200\n",
      "Epoch 4/5\n",
      "800/800 [==============================] - 0s - loss: 11.7872 - acc: 0.2687 - val_loss: 11.0409 - val_acc: 0.3150\n",
      "Epoch 5/5\n",
      "800/800 [==============================] - 0s - loss: 11.8569 - acc: 0.2625 - val_loss: 11.1962 - val_acc: 0.3000\n"
     ]
    },
    {
     "data": {
      "text/plain": [
       "<keras.callbacks.History at 0x7fbf4062ae80>"
      ]
     },
     "execution_count": 539,
     "metadata": {},
     "output_type": "execute_result"
    }
   ],
   "source": [
    "simple.optimizer.lr *= 10\n",
    "simple.fit(\n",
    "    train_images,\n",
    "    train_labels_onehot,\n",
    "    epochs=5,\n",
    "    batch_size=32,\n",
    "    validation_data=(validation_images, validation_labels_onehot),\n",
    ")"
   ]
  },
  {
   "cell_type": "markdown",
   "metadata": {},
   "source": [
    "## Simple + BatchNorm"
   ]
  },
  {
   "cell_type": "code",
   "execution_count": 540,
   "metadata": {},
   "outputs": [
    {
     "name": "stdout",
     "output_type": "stream",
     "text": [
      "_________________________________________________________________\n",
      "Layer (type)                 Output Shape              Param #   \n",
      "=================================================================\n",
      "flatten_51 (Flatten)         (None, 784)               0         \n",
      "_________________________________________________________________\n",
      "batch_normalization_79 (Batc (None, 784)               3136      \n",
      "_________________________________________________________________\n",
      "dense_115 (Dense)            (None, 32)                25120     \n",
      "_________________________________________________________________\n",
      "activation_115 (Activation)  (None, 32)                0         \n",
      "_________________________________________________________________\n",
      "batch_normalization_80 (Batc (None, 32)                128       \n",
      "_________________________________________________________________\n",
      "dense_116 (Dense)            (None, 10)                330       \n",
      "_________________________________________________________________\n",
      "activation_116 (Activation)  (None, 10)                0         \n",
      "=================================================================\n",
      "Total params: 28,714\n",
      "Trainable params: 27,082\n",
      "Non-trainable params: 1,632\n",
      "_________________________________________________________________\n"
     ]
    }
   ],
   "source": [
    "from keras.layers import BatchNormalization\n",
    "\n",
    "simple_bn = Sequential([\n",
    "    # Preprocess\n",
    "    Flatten(input_shape=(IMAGE_SIZE, IMAGE_SIZE)),\n",
    "    BatchNormalization(),\n",
    "    \n",
    "    # Input layer\n",
    "    Dense(32),\n",
    "    Activation('relu'),\n",
    "    BatchNormalization(),\n",
    "    \n",
    "    # Output layer\n",
    "    Dense(10),\n",
    "    Activation('softmax'),\n",
    "])\n",
    "\n",
    "simple_bn.compile(\n",
    "    optimizer='adam',\n",
    "    loss='categorical_crossentropy',\n",
    "    metrics=['accuracy'],\n",
    ")\n",
    "simple_bn.summary()"
   ]
  },
  {
   "cell_type": "code",
   "execution_count": 541,
   "metadata": {},
   "outputs": [
    {
     "name": "stdout",
     "output_type": "stream",
     "text": [
      "Train on 800 samples, validate on 200 samples\n",
      "Epoch 1/5\n",
      "800/800 [==============================] - 0s - loss: 1.8806 - acc: 0.3863 - val_loss: 1.6673 - val_acc: 0.5650\n",
      "Epoch 2/5\n",
      "800/800 [==============================] - 0s - loss: 0.8614 - acc: 0.7450 - val_loss: 1.1050 - val_acc: 0.6900\n",
      "Epoch 3/5\n",
      "800/800 [==============================] - 0s - loss: 0.6059 - acc: 0.8463 - val_loss: 0.9177 - val_acc: 0.7400\n",
      "Epoch 4/5\n",
      "800/800 [==============================] - 0s - loss: 0.4870 - acc: 0.8912 - val_loss: 0.8272 - val_acc: 0.7600\n",
      "Epoch 5/5\n",
      "800/800 [==============================] - 0s - loss: 0.4087 - acc: 0.9125 - val_loss: 0.7529 - val_acc: 0.7800\n"
     ]
    },
    {
     "data": {
      "text/plain": [
       "<keras.callbacks.History at 0x7fbf3f624898>"
      ]
     },
     "execution_count": 541,
     "metadata": {},
     "output_type": "execute_result"
    }
   ],
   "source": [
    "simple_bn.fit(\n",
    "    train_images,\n",
    "    train_labels_onehot,\n",
    "    epochs=5,\n",
    "    batch_size=32,\n",
    "    validation_data=(validation_images, validation_labels_onehot),\n",
    ")"
   ]
  },
  {
   "cell_type": "code",
   "execution_count": 542,
   "metadata": {
    "scrolled": true
   },
   "outputs": [
    {
     "name": "stdout",
     "output_type": "stream",
     "text": [
      "Train on 800 samples, validate on 200 samples\n",
      "Epoch 1/5\n",
      "800/800 [==============================] - 0s - loss: 0.3279 - acc: 0.9337 - val_loss: 0.7422 - val_acc: 0.7850\n",
      "Epoch 2/5\n",
      "800/800 [==============================] - 0s - loss: 0.2881 - acc: 0.9500 - val_loss: 0.7538 - val_acc: 0.7950\n",
      "Epoch 3/5\n",
      "800/800 [==============================] - 0s - loss: 0.2491 - acc: 0.9612 - val_loss: 0.7629 - val_acc: 0.8150\n",
      "Epoch 4/5\n",
      "800/800 [==============================] - 0s - loss: 0.2210 - acc: 0.9713 - val_loss: 0.8150 - val_acc: 0.8100\n",
      "Epoch 5/5\n",
      "800/800 [==============================] - 0s - loss: 0.1880 - acc: 0.9662 - val_loss: 0.8260 - val_acc: 0.8100\n"
     ]
    },
    {
     "data": {
      "text/plain": [
       "<keras.callbacks.History at 0x7fbf42f054a8>"
      ]
     },
     "execution_count": 542,
     "metadata": {},
     "output_type": "execute_result"
    }
   ],
   "source": [
    "simple_bn.optimizer.lr *= 10\n",
    "simple_bn.fit(\n",
    "    train_images,\n",
    "    train_labels_onehot,\n",
    "    epochs=5,\n",
    "    batch_size=32,\n",
    "    validation_data=(validation_images, validation_labels_onehot),\n",
    ")"
   ]
  },
  {
   "cell_type": "code",
   "execution_count": 543,
   "metadata": {},
   "outputs": [
    {
     "name": "stdout",
     "output_type": "stream",
     "text": [
      "\r",
      " 32/200 [===>..........................] - ETA: 0s"
     ]
    },
    {
     "data": {
      "image/png": "[encoded data removed]",
      "text/plain": [
       "<matplotlib.figure.Figure at 0x7fbf3f53cf98>"
      ]
     },
     "metadata": {},
     "output_type": "display_data"
    }
   ],
   "source": [
    "predicted_labels = simple_bn.predict_classes(validation_images, batch_size=32)\n",
    "errors = np.where(validation_labels != predicted_labels)[0][:5]\n",
    "display_images(validation_images[errors], predicted_labels[errors])"
   ]
  },
  {
   "cell_type": "markdown",
   "metadata": {},
   "source": [
    "## Simple + Data Augumentation"
   ]
  },
  {
   "cell_type": "code",
   "execution_count": 544,
   "metadata": {},
   "outputs": [
    {
     "name": "stdout",
     "output_type": "stream",
     "text": [
      "_________________________________________________________________\n",
      "Layer (type)                 Output Shape              Param #   \n",
      "=================================================================\n",
      "flatten_52 (Flatten)         (None, 784)               0         \n",
      "_________________________________________________________________\n",
      "batch_normalization_81 (Batc (None, 784)               3136      \n",
      "_________________________________________________________________\n",
      "dense_117 (Dense)            (None, 32)                25120     \n",
      "_________________________________________________________________\n",
      "activation_117 (Activation)  (None, 32)                0         \n",
      "_________________________________________________________________\n",
      "batch_normalization_82 (Batc (None, 32)                128       \n",
      "_________________________________________________________________\n",
      "dense_118 (Dense)            (None, 10)                330       \n",
      "_________________________________________________________________\n",
      "activation_118 (Activation)  (None, 10)                0         \n",
      "=================================================================\n",
      "Total params: 28,714\n",
      "Trainable params: 27,082\n",
      "Non-trainable params: 1,632\n",
      "_________________________________________________________________\n"
     ]
    }
   ],
   "source": [
    "# same as simple_bn\n",
    "simple_aug = Sequential([\n",
    "    # Preprocess\n",
    "    Flatten(input_shape=(IMAGE_SIZE, IMAGE_SIZE)),\n",
    "    BatchNormalization(),\n",
    "    \n",
    "    # Input layer\n",
    "    Dense(32),\n",
    "    Activation('relu'),\n",
    "    BatchNormalization(),\n",
    "    \n",
    "    # Output layer\n",
    "    Dense(10),\n",
    "    Activation('softmax'),\n",
    "])\n",
    "\n",
    "simple_aug.compile(\n",
    "    optimizer='adam',\n",
    "    loss='categorical_crossentropy',\n",
    "    metrics=['accuracy'],\n",
    ")\n",
    "simple_aug.summary()"
   ]
  },
  {
   "cell_type": "code",
   "execution_count": 545,
   "metadata": {
    "collapsed": true
   },
   "outputs": [],
   "source": [
    "from keras.preprocessing.image import ImageDataGenerator\n",
    "\n",
    "image_generator = ImageDataGenerator(\n",
    "    rotation_range=20,\n",
    "    zoom_range=(0.9, 1.4),\n",
    ")\n",
    "\n",
    "def batches(images, labels, batch_size=32):\n",
    "    while True:\n",
    "        for i in range(0, len(images), batch_size):\n",
    "            yield images[i:i+batch_size], labels[i:i+batch_size]\n",
    "\n",
    "def generate(images, labels, batch_size=32):\n",
    "    images = np.expand_dims(images, axis=3)\n",
    "    batches = image_generator.flow(images, labels, batch_size=batch_size)\n",
    "    for batch_images, batch_labels in batches:\n",
    "        yield np.squeeze(batch_images, axis=3), batch_labels"
   ]
  },
  {
   "cell_type": "code",
   "execution_count": 546,
   "metadata": {},
   "outputs": [
    {
     "data": {
      "image/png": "[encoded data removed]",
      "text/plain": [
       "<matplotlib.figure.Figure at 0x7fbf3f214748>"
      ]
     },
     "metadata": {},
     "output_type": "display_data"
    }
   ],
   "source": [
    "aug_images, aug_labels = next(generate(train_images, train_labels, 5))\n",
    "display_images(aug_images, aug_labels)"
   ]
  },
  {
   "cell_type": "code",
   "execution_count": 547,
   "metadata": {},
   "outputs": [
    {
     "name": "stdout",
     "output_type": "stream",
     "text": [
      "Epoch 1/5\n",
      "100/100 [==============================] - 1s - loss: 1.3732 - acc: 0.5650 - val_loss: 1.0509 - val_acc: 0.7350\n",
      "Epoch 2/5\n",
      "100/100 [==============================] - 0s - loss: 0.8149 - acc: 0.7522 - val_loss: 0.7806 - val_acc: 0.8550\n",
      "Epoch 3/5\n",
      "100/100 [==============================] - 1s - loss: 0.6912 - acc: 0.7869 - val_loss: 0.6455 - val_acc: 0.8650\n",
      "Epoch 4/5\n",
      "100/100 [==============================] - 0s - loss: 0.5953 - acc: 0.8213 - val_loss: 0.6116 - val_acc: 0.8650\n",
      "Epoch 5/5\n",
      "100/100 [==============================] - 1s - loss: 0.5515 - acc: 0.8341 - val_loss: 0.6132 - val_acc: 0.8500\n"
     ]
    },
    {
     "data": {
      "text/plain": [
       "<keras.callbacks.History at 0x7fbf3e8c4518>"
      ]
     },
     "execution_count": 547,
     "metadata": {},
     "output_type": "execute_result"
    }
   ],
   "source": [
    "from math import ceil\n",
    "\n",
    "simple_aug.fit_generator(\n",
    "    generate(train_images, train_labels_onehot, batch_size=32),\n",
    "    steps_per_epoch=ceil(len(train_images) / 32) * 4,\n",
    "    epochs=5,\n",
    "    validation_data=batches(validation_images, validation_labels_onehot, batch_size=25),\n",
    "    validation_steps=ceil(len(validation_images) / 25),\n",
    ")"
   ]
  },
  {
   "cell_type": "code",
   "execution_count": 548,
   "metadata": {},
   "outputs": [
    {
     "name": "stdout",
     "output_type": "stream",
     "text": [
      "Epoch 1/5\n",
      "100/100 [==============================] - 1s - loss: 0.4992 - acc: 0.8519 - val_loss: 0.6615 - val_acc: 0.8900\n",
      "Epoch 2/5\n",
      "100/100 [==============================] - 1s - loss: 0.4683 - acc: 0.8581 - val_loss: 0.6696 - val_acc: 0.8450\n",
      "Epoch 3/5\n",
      "100/100 [==============================] - 1s - loss: 0.4481 - acc: 0.8569 - val_loss: 0.6495 - val_acc: 0.8400\n",
      "Epoch 4/5\n",
      "100/100 [==============================] - 1s - loss: 0.4270 - acc: 0.8612 - val_loss: 0.6457 - val_acc: 0.8500\n",
      "Epoch 5/5\n",
      "100/100 [==============================] - 1s - loss: 0.3883 - acc: 0.8772 - val_loss: 0.6000 - val_acc: 0.8550\n"
     ]
    },
    {
     "data": {
      "text/plain": [
       "<keras.callbacks.History at 0x7fbf3e8c34a8>"
      ]
     },
     "execution_count": 548,
     "metadata": {},
     "output_type": "execute_result"
    }
   ],
   "source": [
    "simple_aug.optimizer.lr *= 10\n",
    "simple_aug.fit_generator(\n",
    "    generate(train_images, train_labels_onehot, batch_size=32),\n",
    "    steps_per_epoch=ceil(len(train_images) / 32) * 4,\n",
    "    epochs=5,\n",
    "    validation_data=batches(validation_images, validation_labels_onehot, batch_size=25),\n",
    "    validation_steps=ceil(len(validation_images) / 25),\n",
    ")"
   ]
  },
  {
   "cell_type": "code",
   "execution_count": 549,
   "metadata": {},
   "outputs": [
    {
     "name": "stdout",
     "output_type": "stream",
     "text": [
      "\r",
      " 32/200 [===>..........................] - ETA: 0s"
     ]
    },
    {
     "data": {
      "image/png": "[encoded data removed]",
      "text/plain": [
       "<matplotlib.figure.Figure at 0x7fbf3d7be5f8>"
      ]
     },
     "metadata": {},
     "output_type": "display_data"
    }
   ],
   "source": [
    "predicted_labels = simple_aug.predict_classes(validation_images, batch_size=32)\n",
    "errors = np.where(validation_labels != predicted_labels)[0][:5]\n",
    "display_images(validation_images[errors], predicted_labels[errors])"
   ]
  },
  {
   "cell_type": "markdown",
   "metadata": {},
   "source": [
    "## Simple + Dropout"
   ]
  },
  {
   "cell_type": "code",
   "execution_count": 550,
   "metadata": {},
   "outputs": [
    {
     "name": "stdout",
     "output_type": "stream",
     "text": [
      "_________________________________________________________________\n",
      "Layer (type)                 Output Shape              Param #   \n",
      "=================================================================\n",
      "flatten_53 (Flatten)         (None, 784)               0         \n",
      "_________________________________________________________________\n",
      "batch_normalization_83 (Batc (None, 784)               3136      \n",
      "_________________________________________________________________\n",
      "dense_119 (Dense)            (None, 32)                25120     \n",
      "_________________________________________________________________\n",
      "activation_119 (Activation)  (None, 32)                0         \n",
      "_________________________________________________________________\n",
      "batch_normalization_84 (Batc (None, 32)                128       \n",
      "_________________________________________________________________\n",
      "dropout_23 (Dropout)         (None, 32)                0         \n",
      "_________________________________________________________________\n",
      "dense_120 (Dense)            (None, 10)                330       \n",
      "_________________________________________________________________\n",
      "activation_120 (Activation)  (None, 10)                0         \n",
      "=================================================================\n",
      "Total params: 28,714\n",
      "Trainable params: 27,082\n",
      "Non-trainable params: 1,632\n",
      "_________________________________________________________________\n"
     ]
    }
   ],
   "source": [
    "from keras.layers import Dropout\n",
    "\n",
    "simple_do = Sequential([\n",
    "    # Preprocess\n",
    "    Flatten(input_shape=(IMAGE_SIZE, IMAGE_SIZE)),\n",
    "    BatchNormalization(),\n",
    "    \n",
    "    # Input layer\n",
    "    Dense(32),\n",
    "    Activation('relu'),\n",
    "    BatchNormalization(),\n",
    "    Dropout(0.5),\n",
    "    \n",
    "    # Output layer\n",
    "    Dense(10),\n",
    "    Activation('softmax'),\n",
    "])\n",
    "\n",
    "simple_do.compile(\n",
    "    optimizer='adam',\n",
    "    loss='categorical_crossentropy',\n",
    "    metrics=['accuracy'],\n",
    ")\n",
    "simple_do.summary()"
   ]
  },
  {
   "cell_type": "code",
   "execution_count": 551,
   "metadata": {},
   "outputs": [
    {
     "name": "stdout",
     "output_type": "stream",
     "text": [
      "Train on 800 samples, validate on 200 samples\n",
      "Epoch 1/5\n",
      "800/800 [==============================] - 0s - loss: 2.5379 - acc: 0.2462 - val_loss: 2.1221 - val_acc: 0.5100\n",
      "Epoch 2/5\n",
      "800/800 [==============================] - 0s - loss: 1.4522 - acc: 0.5250 - val_loss: 1.3893 - val_acc: 0.6550\n",
      "Epoch 3/5\n",
      "800/800 [==============================] - 0s - loss: 1.1373 - acc: 0.6200 - val_loss: 1.1268 - val_acc: 0.7450\n",
      "Epoch 4/5\n",
      "800/800 [==============================] - 0s - loss: 0.9790 - acc: 0.7075 - val_loss: 1.0202 - val_acc: 0.7450\n",
      "Epoch 5/5\n",
      "800/800 [==============================] - 0s - loss: 0.8474 - acc: 0.7312 - val_loss: 0.9620 - val_acc: 0.7750\n"
     ]
    },
    {
     "data": {
      "text/plain": [
       "<keras.callbacks.History at 0x7fbf3ccf35c0>"
      ]
     },
     "execution_count": 551,
     "metadata": {},
     "output_type": "execute_result"
    }
   ],
   "source": [
    "simple_do.fit(\n",
    "    train_images,\n",
    "    train_labels_onehot,\n",
    "    epochs=5,\n",
    "    batch_size=32,\n",
    "    validation_data=(validation_images, validation_labels_onehot),\n",
    ")"
   ]
  },
  {
   "cell_type": "code",
   "execution_count": 552,
   "metadata": {},
   "outputs": [
    {
     "name": "stdout",
     "output_type": "stream",
     "text": [
      "Train on 800 samples, validate on 200 samples\n",
      "Epoch 1/5\n",
      "800/800 [==============================] - 0s - loss: 0.7748 - acc: 0.7512 - val_loss: 0.9146 - val_acc: 0.8200\n",
      "Epoch 2/5\n",
      "800/800 [==============================] - 0s - loss: 0.7116 - acc: 0.7987 - val_loss: 0.9024 - val_acc: 0.8150\n",
      "Epoch 3/5\n",
      "800/800 [==============================] - 0s - loss: 0.6408 - acc: 0.7950 - val_loss: 0.8854 - val_acc: 0.8200\n",
      "Epoch 4/5\n",
      "800/800 [==============================] - 0s - loss: 0.5855 - acc: 0.8188 - val_loss: 0.8839 - val_acc: 0.8200\n",
      "Epoch 5/5\n",
      "800/800 [==============================] - 0s - loss: 0.5675 - acc: 0.8275 - val_loss: 0.9097 - val_acc: 0.8200\n"
     ]
    },
    {
     "data": {
      "text/plain": [
       "<keras.callbacks.History at 0x7fbf3d4f5710>"
      ]
     },
     "execution_count": 552,
     "metadata": {},
     "output_type": "execute_result"
    }
   ],
   "source": [
    "# simple_do.optimizer.lr *= 10\n",
    "simple_do.fit(\n",
    "    train_images,\n",
    "    train_labels_onehot,\n",
    "    epochs=5,\n",
    "    batch_size=32,\n",
    "    validation_data=(validation_images, validation_labels_onehot),\n",
    ")"
   ]
  },
  {
   "cell_type": "code",
   "execution_count": 553,
   "metadata": {
    "scrolled": true
   },
   "outputs": [
    {
     "name": "stdout",
     "output_type": "stream",
     "text": [
      "\r",
      " 32/200 [===>..........................] - ETA: 0s"
     ]
    },
    {
     "data": {
      "image/png": "[encoded data removed]",
      "text/plain": [
       "<matplotlib.figure.Figure at 0x7fbf3ccb0518>"
      ]
     },
     "metadata": {},
     "output_type": "display_data"
    }
   ],
   "source": [
    "predicted_labels = simple_do.predict_classes(validation_images, batch_size=32)\n",
    "errors = np.where(validation_labels != predicted_labels)[0][:5]\n",
    "display_images(validation_images[errors], predicted_labels[errors])"
   ]
  },
  {
   "cell_type": "markdown",
   "metadata": {},
   "source": [
    "## Hidden"
   ]
  },
  {
   "cell_type": "code",
   "execution_count": 554,
   "metadata": {},
   "outputs": [
    {
     "name": "stdout",
     "output_type": "stream",
     "text": [
      "_________________________________________________________________\n",
      "Layer (type)                 Output Shape              Param #   \n",
      "=================================================================\n",
      "flatten_54 (Flatten)         (None, 784)               0         \n",
      "_________________________________________________________________\n",
      "batch_normalization_85 (Batc (None, 784)               3136      \n",
      "_________________________________________________________________\n",
      "dense_121 (Dense)            (None, 32)                25120     \n",
      "_________________________________________________________________\n",
      "activation_121 (Activation)  (None, 32)                0         \n",
      "_________________________________________________________________\n",
      "batch_normalization_86 (Batc (None, 32)                128       \n",
      "_________________________________________________________________\n",
      "dense_122 (Dense)            (None, 32)                1056      \n",
      "_________________________________________________________________\n",
      "activation_122 (Activation)  (None, 32)                0         \n",
      "_________________________________________________________________\n",
      "batch_normalization_87 (Batc (None, 32)                128       \n",
      "_________________________________________________________________\n",
      "dense_123 (Dense)            (None, 10)                330       \n",
      "_________________________________________________________________\n",
      "activation_123 (Activation)  (None, 10)                0         \n",
      "=================================================================\n",
      "Total params: 29,898\n",
      "Trainable params: 28,202\n",
      "Non-trainable params: 1,696\n",
      "_________________________________________________________________\n"
     ]
    }
   ],
   "source": [
    "hidden = Sequential([\n",
    "    # Preprocess\n",
    "    Flatten(input_shape=(IMAGE_SIZE, IMAGE_SIZE)),\n",
    "    BatchNormalization(),\n",
    "    \n",
    "    # Input layer\n",
    "    Dense(32),\n",
    "    Activation('relu'),\n",
    "    BatchNormalization(),\n",
    "    \n",
    "    # Hidden layer\n",
    "    Dense(32),\n",
    "    Activation('relu'),\n",
    "    BatchNormalization(),\n",
    "    \n",
    "    # Output layer\n",
    "    Dense(10),\n",
    "    Activation('softmax'),\n",
    "])\n",
    "\n",
    "hidden.compile(\n",
    "    optimizer='adam',\n",
    "    loss='categorical_crossentropy',\n",
    "    metrics=['accuracy'],\n",
    ")\n",
    "hidden.summary()"
   ]
  },
  {
   "cell_type": "code",
   "execution_count": 555,
   "metadata": {},
   "outputs": [
    {
     "name": "stdout",
     "output_type": "stream",
     "text": [
      "Train on 800 samples, validate on 200 samples\n",
      "Epoch 1/5\n",
      "800/800 [==============================] - 0s - loss: 2.2591 - acc: 0.2637 - val_loss: 2.3094 - val_acc: 0.3550\n",
      "Epoch 2/5\n",
      "800/800 [==============================] - 0s - loss: 1.2609 - acc: 0.6250 - val_loss: 1.6086 - val_acc: 0.5450\n",
      "Epoch 3/5\n",
      "800/800 [==============================] - 0s - loss: 0.9378 - acc: 0.7575 - val_loss: 1.3140 - val_acc: 0.6800\n",
      "Epoch 4/5\n",
      "800/800 [==============================] - 0s - loss: 0.7026 - acc: 0.8550 - val_loss: 1.1358 - val_acc: 0.7650\n",
      "Epoch 5/5\n",
      "800/800 [==============================] - 0s - loss: 0.5408 - acc: 0.8950 - val_loss: 1.0521 - val_acc: 0.7800\n"
     ]
    },
    {
     "data": {
      "text/plain": [
       "<keras.callbacks.History at 0x7fbf4070f668>"
      ]
     },
     "execution_count": 555,
     "metadata": {},
     "output_type": "execute_result"
    }
   ],
   "source": [
    "hidden.fit(\n",
    "    train_images,\n",
    "    train_labels_onehot,\n",
    "    epochs=5,\n",
    "    batch_size=32,\n",
    "    validation_data=(validation_images, validation_labels_onehot),\n",
    ")"
   ]
  },
  {
   "cell_type": "code",
   "execution_count": 556,
   "metadata": {},
   "outputs": [
    {
     "name": "stdout",
     "output_type": "stream",
     "text": [
      "Train on 800 samples, validate on 200 samples\n",
      "Epoch 1/5\n",
      "800/800 [==============================] - 0s - loss: 0.4585 - acc: 0.9125 - val_loss: 1.0197 - val_acc: 0.8050\n",
      "Epoch 2/5\n",
      "800/800 [==============================] - 0s - loss: 0.3853 - acc: 0.9312 - val_loss: 1.0043 - val_acc: 0.8000\n",
      "Epoch 3/5\n",
      "800/800 [==============================] - 0s - loss: 0.3240 - acc: 0.9387 - val_loss: 0.9873 - val_acc: 0.8100\n",
      "Epoch 4/5\n",
      "800/800 [==============================] - 0s - loss: 0.2474 - acc: 0.9625 - val_loss: 0.9817 - val_acc: 0.8250\n",
      "Epoch 5/5\n",
      "800/800 [==============================] - 0s - loss: 0.2219 - acc: 0.9662 - val_loss: 0.9612 - val_acc: 0.8350\n"
     ]
    },
    {
     "data": {
      "text/plain": [
       "<keras.callbacks.History at 0x7fbf4070f7f0>"
      ]
     },
     "execution_count": 556,
     "metadata": {},
     "output_type": "execute_result"
    }
   ],
   "source": [
    "hidden.optimizer.lr *= 10\n",
    "hidden.fit(\n",
    "    train_images,\n",
    "    train_labels_onehot,\n",
    "    epochs=5,\n",
    "    batch_size=32,\n",
    "    validation_data=(validation_images, validation_labels_onehot),\n",
    ")"
   ]
  },
  {
   "cell_type": "code",
   "execution_count": 557,
   "metadata": {
    "scrolled": false
   },
   "outputs": [
    {
     "name": "stdout",
     "output_type": "stream",
     "text": [
      "\r",
      " 32/200 [===>..........................] - ETA: 0s"
     ]
    },
    {
     "data": {
      "image/png": "[encoded data removed]",
      "text/plain": [
       "<matplotlib.figure.Figure at 0x7fbf403af6d8>"
      ]
     },
     "metadata": {},
     "output_type": "display_data"
    }
   ],
   "source": [
    "predicted_labels = hidden.predict_classes(validation_images, batch_size=32)\n",
    "errors = np.where(validation_labels != predicted_labels)[0][:5]\n",
    "display_images(validation_images[errors], predicted_labels[errors])"
   ]
  },
  {
   "cell_type": "markdown",
   "metadata": {},
   "source": [
    "## Hidden + Dropout"
   ]
  },
  {
   "cell_type": "code",
   "execution_count": 558,
   "metadata": {},
   "outputs": [
    {
     "name": "stdout",
     "output_type": "stream",
     "text": [
      "_________________________________________________________________\n",
      "Layer (type)                 Output Shape              Param #   \n",
      "=================================================================\n",
      "flatten_55 (Flatten)         (None, 784)               0         \n",
      "_________________________________________________________________\n",
      "batch_normalization_88 (Batc (None, 784)               3136      \n",
      "_________________________________________________________________\n",
      "dense_124 (Dense)            (None, 32)                25120     \n",
      "_________________________________________________________________\n",
      "activation_124 (Activation)  (None, 32)                0         \n",
      "_________________________________________________________________\n",
      "batch_normalization_89 (Batc (None, 32)                128       \n",
      "_________________________________________________________________\n",
      "dropout_24 (Dropout)         (None, 32)                0         \n",
      "_________________________________________________________________\n",
      "dense_125 (Dense)            (None, 32)                1056      \n",
      "_________________________________________________________________\n",
      "activation_125 (Activation)  (None, 32)                0         \n",
      "_________________________________________________________________\n",
      "batch_normalization_90 (Batc (None, 32)                128       \n",
      "_________________________________________________________________\n",
      "dropout_25 (Dropout)         (None, 32)                0         \n",
      "_________________________________________________________________\n",
      "dense_126 (Dense)            (None, 10)                330       \n",
      "_________________________________________________________________\n",
      "activation_126 (Activation)  (None, 10)                0         \n",
      "=================================================================\n",
      "Total params: 29,898\n",
      "Trainable params: 28,202\n",
      "Non-trainable params: 1,696\n",
      "_________________________________________________________________\n"
     ]
    }
   ],
   "source": [
    "hidden_do = Sequential([\n",
    "    # Preprocess\n",
    "    Flatten(input_shape=(IMAGE_SIZE, IMAGE_SIZE)),\n",
    "    BatchNormalization(),\n",
    "    \n",
    "    # Input layer\n",
    "    Dense(32),\n",
    "    Activation('relu'),\n",
    "    BatchNormalization(),\n",
    "    Dropout(0.25),\n",
    "    \n",
    "    # Hidden layer\n",
    "    Dense(32),\n",
    "    Activation('relu'),\n",
    "    BatchNormalization(),\n",
    "    Dropout(0.5),\n",
    "    \n",
    "    # Output layer\n",
    "    Dense(10),\n",
    "    Activation('softmax'),\n",
    "])\n",
    "\n",
    "hidden_do.compile(\n",
    "    optimizer='adam',\n",
    "    loss='categorical_crossentropy',\n",
    "    metrics=['accuracy'],\n",
    ")\n",
    "hidden_do.summary()"
   ]
  },
  {
   "cell_type": "code",
   "execution_count": 559,
   "metadata": {},
   "outputs": [
    {
     "name": "stdout",
     "output_type": "stream",
     "text": [
      "Train on 800 samples, validate on 200 samples\n",
      "Epoch 1/5\n",
      "800/800 [==============================] - 0s - loss: 2.7886 - acc: 0.2038 - val_loss: 2.2482 - val_acc: 0.3150\n",
      "Epoch 2/5\n",
      "800/800 [==============================] - 0s - loss: 1.9664 - acc: 0.3550 - val_loss: 1.5912 - val_acc: 0.4800\n",
      "Epoch 3/5\n",
      "800/800 [==============================] - 0s - loss: 1.5698 - acc: 0.4512 - val_loss: 1.3672 - val_acc: 0.6400\n",
      "Epoch 4/5\n",
      "800/800 [==============================] - 0s - loss: 1.3936 - acc: 0.5212 - val_loss: 1.1920 - val_acc: 0.6950\n",
      "Epoch 5/5\n",
      "800/800 [==============================] - 0s - loss: 1.3075 - acc: 0.5700 - val_loss: 1.0803 - val_acc: 0.7650\n"
     ]
    },
    {
     "data": {
      "text/plain": [
       "<keras.callbacks.History at 0x7fbf3c19cf28>"
      ]
     },
     "execution_count": 559,
     "metadata": {},
     "output_type": "execute_result"
    }
   ],
   "source": [
    "hidden_do.fit(\n",
    "    train_images,\n",
    "    train_labels_onehot,\n",
    "    epochs=5,\n",
    "    batch_size=32,\n",
    "    validation_data=(validation_images, validation_labels_onehot),\n",
    ")"
   ]
  },
  {
   "cell_type": "code",
   "execution_count": 560,
   "metadata": {},
   "outputs": [
    {
     "name": "stdout",
     "output_type": "stream",
     "text": [
      "Train on 800 samples, validate on 200 samples\n",
      "Epoch 1/5\n",
      "800/800 [==============================] - 0s - loss: 1.2290 - acc: 0.6000 - val_loss: 0.9742 - val_acc: 0.8050\n",
      "Epoch 2/5\n",
      "800/800 [==============================] - 0s - loss: 1.0832 - acc: 0.6562 - val_loss: 0.9110 - val_acc: 0.8150\n",
      "Epoch 3/5\n",
      "800/800 [==============================] - 0s - loss: 1.0096 - acc: 0.6687 - val_loss: 0.8769 - val_acc: 0.8200\n",
      "Epoch 4/5\n",
      "800/800 [==============================] - ETA: 0s - loss: 0.9281 - acc: 0.703 - 0s - loss: 0.9218 - acc: 0.7112 - val_loss: 0.9172 - val_acc: 0.8450\n",
      "Epoch 5/5\n",
      "800/800 [==============================] - 0s - loss: 0.8531 - acc: 0.7188 - val_loss: 0.9112 - val_acc: 0.8550\n"
     ]
    },
    {
     "data": {
      "text/plain": [
       "<keras.callbacks.History at 0x7fbf3bf22b38>"
      ]
     },
     "execution_count": 560,
     "metadata": {},
     "output_type": "execute_result"
    }
   ],
   "source": [
    "hidden_do.optimizer.lr *= 10\n",
    "hidden_do.fit(\n",
    "    train_images,\n",
    "    train_labels_onehot,\n",
    "    epochs=5,\n",
    "    batch_size=32,\n",
    "    validation_data=(validation_images, validation_labels_onehot),\n",
    ")"
   ]
  },
  {
   "cell_type": "code",
   "execution_count": 561,
   "metadata": {
    "scrolled": true
   },
   "outputs": [
    {
     "name": "stdout",
     "output_type": "stream",
     "text": [
      "\r",
      " 32/200 [===>..........................] - ETA: 0s"
     ]
    },
    {
     "data": {
      "image/png": "[encoded data removed]",
      "text/plain": [
       "<matplotlib.figure.Figure at 0x7fbf3bd9f198>"
      ]
     },
     "metadata": {},
     "output_type": "display_data"
    }
   ],
   "source": [
    "predicted_labels = hidden_do.predict_classes(validation_images, batch_size=32)\n",
    "errors = np.where(validation_labels != predicted_labels)[0][:5]\n",
    "display_images(validation_images[errors], predicted_labels[errors])"
   ]
  },
  {
   "cell_type": "markdown",
   "metadata": {},
   "source": [
    "## Convolution"
   ]
  },
  {
   "cell_type": "code",
   "execution_count": null,
   "metadata": {
    "collapsed": true
   },
   "outputs": [],
   "source": [
    "# TODO"
   ]
  }
 ],
 "metadata": {
  "kernelspec": {
   "display_name": "Python 3",
   "language": "python",
   "name": "python3"
  },
  "language_info": {
   "codemirror_mode": {
    "name": "ipython",
    "version": 3
   },
   "file_extension": ".py",
   "mimetype": "text/x-python",
   "name": "python",
   "nbconvert_exporter": "python",
   "pygments_lexer": "ipython3",
   "version": "3.5.2"
  }
 },
 "nbformat": 4,
 "nbformat_minor": 2
}
