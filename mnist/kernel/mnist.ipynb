{
 "cells": [
  {
   "cell_type": "markdown",
   "metadata": {
    "heading_collapsed": true
   },
   "source": [
    "## Setup"
   ]
  },
  {
   "cell_type": "code",
   "execution_count": 1,
   "metadata": {
    "collapsed": true,
    "hidden": true
   },
   "outputs": [],
   "source": [
    "import numpy as np\n",
    "import pandas as pd\n",
    "from IPython.display import display\n",
    "import matplotlib.pyplot as plt\n",
    "\n",
    "from keras.models import Sequential\n",
    "from keras.layers import *\n",
    "\n",
    "%matplotlib inline"
   ]
  },
  {
   "cell_type": "code",
   "execution_count": 2,
   "metadata": {
    "collapsed": true,
    "hidden": true
   },
   "outputs": [],
   "source": [
    "import os.path\n",
    "\n",
    "IMAGE_SIZE = 28\n",
    "PIXEL_COUNT = IMAGE_SIZE ** 2\n",
    "\n",
    "_cache = {}\n",
    "\n",
    "def load_images(name, labels=False, sample=None):\n",
    "    path = os.path.join('..', 'input', name + '.csv')\n",
    "    vectors = _cache.get(path)\n",
    "    \n",
    "    if vectors is None:\n",
    "        vectors = _cache[path] = pd.read_csv(path).as_matrix()\n",
    "    \n",
    "    if sample is not None:\n",
    "        vectors = vectors[:sample]\n",
    "\n",
    "    if labels:\n",
    "        label_vector = vectors[:, 0]\n",
    "        vectors = vectors[:, 1:]\n",
    "    else:\n",
    "        label_vector = None\n",
    "\n",
    "    images = vectors.reshape(len(vectors), 1, IMAGE_SIZE, IMAGE_SIZE)\n",
    "    return label_vector, images"
   ]
  },
  {
   "cell_type": "code",
   "execution_count": 3,
   "metadata": {
    "collapsed": true,
    "hidden": true
   },
   "outputs": [],
   "source": [
    "def display_images(images, labels):\n",
    "    figure = plt.figure(figsize=(12, 24))\n",
    "    images = np.squeeze(images, axis=1)\n",
    "    \n",
    "    for i, (label, image) in enumerate(zip(labels, images)):\n",
    "        image_plot = figure.add_subplot(1, len(images), i + 1)\n",
    "        image_plot.set_title(label, fontsize=18)\n",
    "        image_plot.imshow(image, interpolation=None, cmap='gray')"
   ]
  },
  {
   "cell_type": "code",
   "execution_count": 4,
   "metadata": {
    "hidden": true
   },
   "outputs": [],
   "source": [
    "def split_data(data, labels, ratio=0.2):\n",
    "    rows = data.shape[0]\n",
    "    validation_indices = np.random.choice(rows, int(rows * ratio), replace=False)\n",
    "    validation_mask = np.zeros(rows, np.bool)\n",
    "    validation_mask[validation_indices] = True\n",
    "    \n",
    "    validation_data = data[validation_mask]\n",
    "    validation_labels = labels[validation_mask]\n",
    "    train_data = data[~validation_mask]\n",
    "    train_labels = labels[~validation_mask]\n",
    "    \n",
    "    return train_labels, train_data, validation_labels, validation_data"
   ]
  },
  {
   "cell_type": "code",
   "execution_count": 5,
   "metadata": {
    "hidden": true
   },
   "outputs": [],
   "source": [
    "import math\n",
    "from keras.utils import to_categorical\n",
    "from keras.preprocessing.image import ImageDataGenerator\n",
    "\n",
    "noop_generator = ImageDataGenerator()\n",
    "\n",
    "def fit(model, train_in, train_out, val_in, val_out, lr=0.001, gen=noop_generator):\n",
    "    model.compile(\n",
    "        optimizer='adam',\n",
    "        loss='categorical_crossentropy',\n",
    "        metrics=['accuracy'],\n",
    "    )\n",
    "    runs = [(lr, 5), (lr * 10, 10), (lr, 5)]\n",
    "    \n",
    "    train_gen = gen.flow(train_in, to_categorical(train_out), batch_size=32)\n",
    "    val_gen = noop_generator.flow(val_in, to_categorical(val_out), batch_size=32, shuffle=False)\n",
    "    \n",
    "    for lr, epochs in runs:\n",
    "        model.optimizer.lr = lr\n",
    "        model.fit_generator(\n",
    "            train_gen,\n",
    "            steps_per_epoch=math.ceil(train_in.shape[0] / 32),\n",
    "            validation_data=val_gen,\n",
    "            validation_steps=math.ceil(val_in.shape[0] / 32),\n",
    "            epochs=epochs,\n",
    "        )\n",
    "        \n",
    "    out = model.predict_classes(val_in, batch_size=32)\n",
    "    errors = np.where(out != val_out)[0][:5]\n",
    "    display_images(val_in[errors], out[errors])"
   ]
  },
  {
   "cell_type": "markdown",
   "metadata": {
    "heading_collapsed": true
   },
   "source": [
    "## Load images"
   ]
  },
  {
   "cell_type": "code",
   "execution_count": 6,
   "metadata": {
    "hidden": true
   },
   "outputs": [
    {
     "data": {
      "text/plain": [
       "(1000,)"
      ]
     },
     "metadata": {},
     "output_type": "display_data"
    },
    {
     "data": {
      "text/plain": [
       "(1000, 1, 28, 28)"
      ]
     },
     "metadata": {},
     "output_type": "display_data"
    },
    {
     "data": {
      "image/png": "[encoded data removed]",
      "text/plain": [
       "<matplotlib.figure.Figure at 0x7f7d9ac8a208>"
      ]
     },
     "metadata": {},
     "output_type": "display_data"
    }
   ],
   "source": [
    "labels, images = load_images('train', labels=True, sample=1000)\n",
    "display(labels.shape)\n",
    "display(images.shape)\n",
    "display_images(images[:5], labels[:5])"
   ]
  },
  {
   "cell_type": "code",
   "execution_count": 7,
   "metadata": {
    "hidden": true
   },
   "outputs": [
    {
     "data": {
      "text/plain": [
       "(800,)"
      ]
     },
     "metadata": {},
     "output_type": "display_data"
    },
    {
     "data": {
      "text/plain": [
       "(800, 1, 28, 28)"
      ]
     },
     "metadata": {},
     "output_type": "display_data"
    },
    {
     "data": {
      "image/png": "[encoded data removed]",
      "text/plain": [
       "<matplotlib.figure.Figure at 0x7f7d99097400>"
      ]
     },
     "metadata": {},
     "output_type": "display_data"
    }
   ],
   "source": [
    "train_labels, train_images, val_labels, val_images = split_data(images, labels)\n",
    "\n",
    "display(train_labels.shape)\n",
    "display(train_images.shape)\n",
    "display_images(train_images[:5], train_labels[:5])"
   ]
  },
  {
   "cell_type": "code",
   "execution_count": 8,
   "metadata": {
    "hidden": true
   },
   "outputs": [
    {
     "data": {
      "text/plain": [
       "(200,)"
      ]
     },
     "metadata": {},
     "output_type": "display_data"
    },
    {
     "data": {
      "text/plain": [
       "(200, 1, 28, 28)"
      ]
     },
     "metadata": {},
     "output_type": "display_data"
    },
    {
     "data": {
      "image/png": "[encoded data removed]",
      "text/plain": [
       "<matplotlib.figure.Figure at 0x7f7d97edb4a8>"
      ]
     },
     "metadata": {},
     "output_type": "display_data"
    }
   ],
   "source": [
    "display(val_labels.shape)\n",
    "display(val_images.shape)\n",
    "display_images(val_images[:5], val_labels[:5])"
   ]
  },
  {
   "cell_type": "markdown",
   "metadata": {
    "heading_collapsed": true
   },
   "source": [
    "## Simple model"
   ]
  },
  {
   "cell_type": "code",
   "execution_count": 10,
   "metadata": {
    "hidden": true
   },
   "outputs": [
    {
     "name": "stdout",
     "output_type": "stream",
     "text": [
      "_________________________________________________________________\n",
      "Layer (type)                 Output Shape              Param #   \n",
      "=================================================================\n",
      "flatten_1 (Flatten)          (None, 784)               0         \n",
      "_________________________________________________________________\n",
      "dense_1 (Dense)              (None, 32)                25120     \n",
      "_________________________________________________________________\n",
      "activation_1 (Activation)    (None, 32)                0         \n",
      "_________________________________________________________________\n",
      "dense_2 (Dense)              (None, 10)                330       \n",
      "_________________________________________________________________\n",
      "activation_2 (Activation)    (None, 10)                0         \n",
      "=================================================================\n",
      "Total params: 25,450\n",
      "Trainable params: 25,450\n",
      "Non-trainable params: 0\n",
      "_________________________________________________________________\n"
     ]
    }
   ],
   "source": [
    "from keras.models import Sequential\n",
    "from keras.layers import Dense, Activation, Flatten, Input\n",
    "\n",
    "simple = Sequential([\n",
    "    # Preprocess\n",
    "    Flatten(input_shape=(1, IMAGE_SIZE, IMAGE_SIZE)),\n",
    "    \n",
    "    # Input layer\n",
    "    Dense(32),\n",
    "    Activation('relu'),\n",
    "    \n",
    "    # Output layer\n",
    "    Dense(10),\n",
    "    Activation('softmax'),\n",
    "])\n",
    "\n",
    "simple.summary()"
   ]
  },
  {
   "cell_type": "code",
   "execution_count": 11,
   "metadata": {
    "hidden": true,
    "scrolled": true
   },
   "outputs": [
    {
     "name": "stdout",
     "output_type": "stream",
     "text": [
      "Epoch 1/5\n",
      "25/25 [==============================] - 0s - loss: 13.2090 - acc: 0.1712 - val_loss: 12.4946 - val_acc: 0.2150\n",
      "Epoch 2/5\n",
      "25/25 [==============================] - 0s - loss: 12.5030 - acc: 0.2150 - val_loss: 12.4985 - val_acc: 0.2200\n",
      "Epoch 3/5\n",
      "25/25 [==============================] - 0s - loss: 12.3446 - acc: 0.2300 - val_loss: 12.5869 - val_acc: 0.2150\n",
      "Epoch 4/5\n",
      "25/25 [==============================] - 0s - loss: 11.8757 - acc: 0.2587 - val_loss: 11.6981 - val_acc: 0.2700\n",
      "Epoch 5/5\n",
      "25/25 [==============================] - 0s - loss: 11.6176 - acc: 0.2750 - val_loss: 11.6856 - val_acc: 0.2750\n",
      "Epoch 1/10\n",
      "25/25 [==============================] - 0s - loss: 11.2046 - acc: 0.2950 - val_loss: 11.6054 - val_acc: 0.2800\n",
      "Epoch 2/10\n",
      "25/25 [==============================] - 0s - loss: 11.0362 - acc: 0.3112 - val_loss: 11.3682 - val_acc: 0.2900\n",
      "Epoch 3/10\n",
      "25/25 [==============================] - 0s - loss: 10.2289 - acc: 0.3550 - val_loss: 10.5504 - val_acc: 0.3350\n",
      "Epoch 4/10\n",
      "25/25 [==============================] - 0s - loss: 9.4144 - acc: 0.4050 - val_loss: 9.6089 - val_acc: 0.3950\n",
      "Epoch 5/10\n",
      "25/25 [==============================] - 0s - loss: 8.9571 - acc: 0.4413 - val_loss: 9.9467 - val_acc: 0.3800\n",
      "Epoch 6/10\n",
      "25/25 [==============================] - 0s - loss: 9.0460 - acc: 0.4362 - val_loss: 10.1254 - val_acc: 0.3700\n",
      "Epoch 7/10\n",
      "25/25 [==============================] - 0s - loss: 8.9479 - acc: 0.4425 - val_loss: 9.8265 - val_acc: 0.3800\n",
      "Epoch 8/10\n",
      "25/25 [==============================] - 0s - loss: 8.6849 - acc: 0.4550 - val_loss: 9.7057 - val_acc: 0.3900\n",
      "Epoch 9/10\n",
      "25/25 [==============================] - 0s - loss: 9.0705 - acc: 0.4350 - val_loss: 10.0459 - val_acc: 0.3750\n",
      "Epoch 10/10\n",
      "25/25 [==============================] - 0s - loss: 8.4192 - acc: 0.4738 - val_loss: 9.7825 - val_acc: 0.3850\n",
      "Epoch 1/5\n",
      "25/25 [==============================] - 0s - loss: 8.5502 - acc: 0.4675 - val_loss: 9.5017 - val_acc: 0.3950\n",
      "Epoch 2/5\n",
      "25/25 [==============================] - 0s - loss: 7.8123 - acc: 0.5100 - val_loss: 8.6006 - val_acc: 0.4550\n",
      "Epoch 3/5\n",
      "25/25 [==============================] - 0s - loss: 7.8044 - acc: 0.5112 - val_loss: 8.6253 - val_acc: 0.4450\n",
      "Epoch 4/5\n",
      "25/25 [==============================] - 0s - loss: 7.8844 - acc: 0.5038 - val_loss: 8.9605 - val_acc: 0.4150\n",
      "Epoch 5/5\n",
      "25/25 [==============================] - 0s - loss: 8.6583 - acc: 0.4563 - val_loss: 8.6132 - val_acc: 0.4600\n",
      " 32/200 [===>..........................] - ETA: 0s"
     ]
    },
    {
     "data": {
      "image/png": "[encoded data removed]",
      "text/plain": [
       "<matplotlib.figure.Figure at 0x7ff2b01f61d0>"
      ]
     },
     "metadata": {},
     "output_type": "display_data"
    }
   ],
   "source": [
    "fit(simple, train_images, train_labels, val_images, val_labels)"
   ]
  },
  {
   "cell_type": "markdown",
   "metadata": {
    "heading_collapsed": true
   },
   "source": [
    "## Simple + BatchNorm"
   ]
  },
  {
   "cell_type": "code",
   "execution_count": 12,
   "metadata": {
    "hidden": true
   },
   "outputs": [
    {
     "name": "stdout",
     "output_type": "stream",
     "text": [
      "_________________________________________________________________\n",
      "Layer (type)                 Output Shape              Param #   \n",
      "=================================================================\n",
      "flatten_2 (Flatten)          (None, 784)               0         \n",
      "_________________________________________________________________\n",
      "batch_normalization_1 (Batch (None, 784)               3136      \n",
      "_________________________________________________________________\n",
      "dense_3 (Dense)              (None, 32)                25120     \n",
      "_________________________________________________________________\n",
      "activation_3 (Activation)    (None, 32)                0         \n",
      "_________________________________________________________________\n",
      "batch_normalization_2 (Batch (None, 32)                128       \n",
      "_________________________________________________________________\n",
      "dense_4 (Dense)              (None, 10)                330       \n",
      "_________________________________________________________________\n",
      "activation_4 (Activation)    (None, 10)                0         \n",
      "=================================================================\n",
      "Total params: 28,714\n",
      "Trainable params: 27,082\n",
      "Non-trainable params: 1,632\n",
      "_________________________________________________________________\n"
     ]
    }
   ],
   "source": [
    "from keras.layers import BatchNormalization\n",
    "\n",
    "simple_bn = Sequential([\n",
    "    # Preprocess\n",
    "    Flatten(input_shape=(1, IMAGE_SIZE, IMAGE_SIZE)),\n",
    "    BatchNormalization(),\n",
    "    \n",
    "    # Input layer\n",
    "    Dense(32),\n",
    "    Activation('relu'),\n",
    "    BatchNormalization(),\n",
    "    \n",
    "    # Output layer\n",
    "    Dense(10),\n",
    "    Activation('softmax'),\n",
    "])\n",
    "\n",
    "simple_bn.summary()"
   ]
  },
  {
   "cell_type": "code",
   "execution_count": 13,
   "metadata": {
    "hidden": true,
    "scrolled": true
   },
   "outputs": [
    {
     "name": "stdout",
     "output_type": "stream",
     "text": [
      "Epoch 1/5\n",
      "25/25 [==============================] - 0s - loss: 1.8031 - acc: 0.4150 - val_loss: 1.3700 - val_acc: 0.6300\n",
      "Epoch 2/5\n",
      "25/25 [==============================] - 0s - loss: 0.8671 - acc: 0.7650 - val_loss: 0.9401 - val_acc: 0.7600\n",
      "Epoch 3/5\n",
      "25/25 [==============================] - 0s - loss: 0.6329 - acc: 0.8425 - val_loss: 0.8077 - val_acc: 0.8050\n",
      "Epoch 4/5\n",
      "25/25 [==============================] - 0s - loss: 0.5157 - acc: 0.8800 - val_loss: 0.7612 - val_acc: 0.8300\n",
      "Epoch 5/5\n",
      "25/25 [==============================] - 0s - loss: 0.4041 - acc: 0.9088 - val_loss: 0.7353 - val_acc: 0.8350\n",
      "Epoch 1/10\n",
      "25/25 [==============================] - 0s - loss: 0.3525 - acc: 0.9250 - val_loss: 0.7207 - val_acc: 0.8350\n",
      "Epoch 2/10\n",
      "25/25 [==============================] - 0s - loss: 0.2966 - acc: 0.9375 - val_loss: 0.7452 - val_acc: 0.8250\n",
      "Epoch 3/10\n",
      "25/25 [==============================] - 0s - loss: 0.2649 - acc: 0.9600 - val_loss: 0.7573 - val_acc: 0.8250\n",
      "Epoch 4/10\n",
      "25/25 [==============================] - 0s - loss: 0.2067 - acc: 0.9688 - val_loss: 0.7791 - val_acc: 0.8250\n",
      "Epoch 5/10\n",
      "25/25 [==============================] - 0s - loss: 0.1742 - acc: 0.9738 - val_loss: 0.7801 - val_acc: 0.8350\n",
      "Epoch 6/10\n",
      "25/25 [==============================] - 0s - loss: 0.1695 - acc: 0.9713 - val_loss: 0.7734 - val_acc: 0.8400\n",
      "Epoch 7/10\n",
      "25/25 [==============================] - 0s - loss: 0.1387 - acc: 0.9850 - val_loss: 0.7728 - val_acc: 0.8300\n",
      "Epoch 8/10\n",
      "25/25 [==============================] - 0s - loss: 0.1145 - acc: 0.9900 - val_loss: 0.7948 - val_acc: 0.8250\n",
      "Epoch 9/10\n",
      "25/25 [==============================] - 0s - loss: 0.1193 - acc: 0.9850 - val_loss: 0.7963 - val_acc: 0.8300\n",
      "Epoch 10/10\n",
      "25/25 [==============================] - 0s - loss: 0.0927 - acc: 0.9962 - val_loss: 0.8007 - val_acc: 0.8400\n",
      "Epoch 1/5\n",
      "25/25 [==============================] - 0s - loss: 0.0940 - acc: 0.9925 - val_loss: 0.8162 - val_acc: 0.8200\n",
      "Epoch 2/5\n",
      "25/25 [==============================] - 0s - loss: 0.0828 - acc: 0.9950 - val_loss: 0.8215 - val_acc: 0.8100\n",
      "Epoch 3/5\n",
      "25/25 [==============================] - 0s - loss: 0.0656 - acc: 0.9988 - val_loss: 0.8122 - val_acc: 0.8300\n",
      "Epoch 4/5\n",
      "25/25 [==============================] - 0s - loss: 0.0709 - acc: 0.9950 - val_loss: 0.8244 - val_acc: 0.8200\n",
      "Epoch 5/5\n",
      "25/25 [==============================] - 0s - loss: 0.0622 - acc: 0.9988 - val_loss: 0.8538 - val_acc: 0.8150\n",
      " 32/200 [===>..........................] - ETA: 0s"
     ]
    },
    {
     "data": {
      "image/png": "[encoded data removed]",
      "text/plain": [
       "<matplotlib.figure.Figure at 0x7ff253245908>"
      ]
     },
     "metadata": {},
     "output_type": "display_data"
    }
   ],
   "source": [
    "fit(simple_bn, train_images, train_labels, val_images, val_labels)"
   ]
  },
  {
   "cell_type": "markdown",
   "metadata": {
    "heading_collapsed": true
   },
   "source": [
    "## Simple + Data Augumentation"
   ]
  },
  {
   "cell_type": "code",
   "execution_count": 37,
   "metadata": {
    "hidden": true
   },
   "outputs": [
    {
     "name": "stdout",
     "output_type": "stream",
     "text": [
      "_________________________________________________________________\n",
      "Layer (type)                 Output Shape              Param #   \n",
      "=================================================================\n",
      "flatten_12 (Flatten)         (None, 784)               0         \n",
      "_________________________________________________________________\n",
      "batch_normalization_27 (Batc (None, 784)               3136      \n",
      "_________________________________________________________________\n",
      "dense_29 (Dense)             (None, 32)                25120     \n",
      "_________________________________________________________________\n",
      "activation_29 (Activation)   (None, 32)                0         \n",
      "_________________________________________________________________\n",
      "batch_normalization_28 (Batc (None, 32)                128       \n",
      "_________________________________________________________________\n",
      "dense_30 (Dense)             (None, 10)                330       \n",
      "_________________________________________________________________\n",
      "activation_30 (Activation)   (None, 10)                0         \n",
      "=================================================================\n",
      "Total params: 28,714\n",
      "Trainable params: 27,082\n",
      "Non-trainable params: 1,632\n",
      "_________________________________________________________________\n"
     ]
    }
   ],
   "source": [
    "# same as simple_bn\n",
    "simple_aug = Sequential([\n",
    "    # Preprocess\n",
    "    Flatten(input_shape=(1, IMAGE_SIZE, IMAGE_SIZE)),\n",
    "    BatchNormalization(),\n",
    "    \n",
    "    # Input layer\n",
    "    Dense(32),\n",
    "    Activation('relu'),\n",
    "    BatchNormalization(),\n",
    "    \n",
    "    # Output layer\n",
    "    Dense(10),\n",
    "    Activation('softmax'),\n",
    "])\n",
    "\n",
    "aug = ImageDataGenerator(\n",
    "    rotation_range=10,\n",
    "    zoom_range=(0.9, 1.2),\n",
    "    data_format='channels_first',\n",
    ")\n",
    "\n",
    "simple_aug.summary()"
   ]
  },
  {
   "cell_type": "code",
   "execution_count": 38,
   "metadata": {
    "hidden": true
   },
   "outputs": [
    {
     "data": {
      "image/png": "[encoded data removed]",
      "text/plain": [
       "<matplotlib.figure.Figure at 0x7f18685d9828>"
      ]
     },
     "metadata": {},
     "output_type": "display_data"
    }
   ],
   "source": [
    "aug_images, aug_labels = next(aug.flow(train_images, train_labels, batch_size=5))\n",
    "display_images(aug_images, aug_labels)"
   ]
  },
  {
   "cell_type": "code",
   "execution_count": 39,
   "metadata": {
    "hidden": true,
    "scrolled": true
   },
   "outputs": [
    {
     "name": "stdout",
     "output_type": "stream",
     "text": [
      "Epoch 1/5\n",
      "25/25 [==============================] - 0s - loss: 2.0470 - acc: 0.3275 - val_loss: 2.7172 - val_acc: 0.3150\n",
      "Epoch 2/5\n",
      "25/25 [==============================] - 0s - loss: 1.2051 - acc: 0.6462 - val_loss: 1.6660 - val_acc: 0.4750\n",
      "Epoch 3/5\n",
      "25/25 [==============================] - 0s - loss: 0.9415 - acc: 0.7388 - val_loss: 1.2021 - val_acc: 0.6600\n",
      "Epoch 4/5\n",
      "25/25 [==============================] - 0s - loss: 0.7993 - acc: 0.7587 - val_loss: 1.0149 - val_acc: 0.7150\n",
      "Epoch 5/5\n",
      "25/25 [==============================] - 0s - loss: 0.6752 - acc: 0.8150 - val_loss: 0.8328 - val_acc: 0.7950\n",
      "Epoch 1/10\n",
      "25/25 [==============================] - 0s - loss: 0.6297 - acc: 0.8375 - val_loss: 0.7303 - val_acc: 0.8150\n",
      "Epoch 2/10\n",
      "25/25 [==============================] - 0s - loss: 0.5794 - acc: 0.8525 - val_loss: 0.7042 - val_acc: 0.8250\n",
      "Epoch 3/10\n",
      "25/25 [==============================] - 0s - loss: 0.5445 - acc: 0.8400 - val_loss: 0.6779 - val_acc: 0.8550\n",
      "Epoch 4/10\n",
      "25/25 [==============================] - 0s - loss: 0.4969 - acc: 0.8675 - val_loss: 0.6469 - val_acc: 0.8600\n",
      "Epoch 5/10\n",
      "25/25 [==============================] - 0s - loss: 0.4383 - acc: 0.8800 - val_loss: 0.6580 - val_acc: 0.8500\n",
      "Epoch 6/10\n",
      "25/25 [==============================] - 0s - loss: 0.4836 - acc: 0.8575 - val_loss: 0.6154 - val_acc: 0.8550\n",
      "Epoch 7/10\n",
      "25/25 [==============================] - 0s - loss: 0.4235 - acc: 0.8750 - val_loss: 0.5500 - val_acc: 0.8650\n",
      "Epoch 8/10\n",
      "25/25 [==============================] - 0s - loss: 0.3684 - acc: 0.9000 - val_loss: 0.5570 - val_acc: 0.8550\n",
      "Epoch 9/10\n",
      "25/25 [==============================] - 0s - loss: 0.3786 - acc: 0.8975 - val_loss: 0.5052 - val_acc: 0.8600\n",
      "Epoch 10/10\n",
      "25/25 [==============================] - 0s - loss: 0.3431 - acc: 0.9050 - val_loss: 0.4958 - val_acc: 0.8600\n",
      "Epoch 1/5\n",
      "25/25 [==============================] - 0s - loss: 0.3692 - acc: 0.8962 - val_loss: 0.4843 - val_acc: 0.8700\n",
      "Epoch 2/5\n",
      "25/25 [==============================] - 0s - loss: 0.3322 - acc: 0.9037 - val_loss: 0.4651 - val_acc: 0.8600\n",
      "Epoch 3/5\n",
      "25/25 [==============================] - 0s - loss: 0.3379 - acc: 0.9025 - val_loss: 0.4700 - val_acc: 0.8650\n",
      "Epoch 4/5\n",
      "25/25 [==============================] - 0s - loss: 0.3203 - acc: 0.9163 - val_loss: 0.4827 - val_acc: 0.8700\n",
      "Epoch 5/5\n",
      "25/25 [==============================] - 0s - loss: 0.3097 - acc: 0.9100 - val_loss: 0.4859 - val_acc: 0.8700\n",
      " 32/200 [===>..........................] - ETA: 0s"
     ]
    },
    {
     "data": {
      "image/png": "[encoded data removed]",
      "text/plain": [
       "<matplotlib.figure.Figure at 0x7f18687857b8>"
      ]
     },
     "metadata": {},
     "output_type": "display_data"
    }
   ],
   "source": [
    "fit(simple_aug, train_images, train_labels, val_images, val_labels, gen=aug)"
   ]
  },
  {
   "cell_type": "markdown",
   "metadata": {
    "heading_collapsed": true
   },
   "source": [
    "## Simple + Dropout"
   ]
  },
  {
   "cell_type": "code",
   "execution_count": 16,
   "metadata": {
    "hidden": true
   },
   "outputs": [
    {
     "name": "stdout",
     "output_type": "stream",
     "text": [
      "_________________________________________________________________\n",
      "Layer (type)                 Output Shape              Param #   \n",
      "=================================================================\n",
      "flatten_4 (Flatten)          (None, 784)               0         \n",
      "_________________________________________________________________\n",
      "batch_normalization_5 (Batch (None, 784)               3136      \n",
      "_________________________________________________________________\n",
      "dense_7 (Dense)              (None, 32)                25120     \n",
      "_________________________________________________________________\n",
      "activation_7 (Activation)    (None, 32)                0         \n",
      "_________________________________________________________________\n",
      "batch_normalization_6 (Batch (None, 32)                128       \n",
      "_________________________________________________________________\n",
      "dropout_1 (Dropout)          (None, 32)                0         \n",
      "_________________________________________________________________\n",
      "dense_8 (Dense)              (None, 10)                330       \n",
      "_________________________________________________________________\n",
      "activation_8 (Activation)    (None, 10)                0         \n",
      "=================================================================\n",
      "Total params: 28,714\n",
      "Trainable params: 27,082\n",
      "Non-trainable params: 1,632\n",
      "_________________________________________________________________\n"
     ]
    }
   ],
   "source": [
    "from keras.layers import Dropout\n",
    "\n",
    "simple_do = Sequential([\n",
    "    # Preprocess\n",
    "    Flatten(input_shape=(1, IMAGE_SIZE, IMAGE_SIZE)),\n",
    "    BatchNormalization(),\n",
    "    \n",
    "    # Input layer\n",
    "    Dense(32),\n",
    "    Activation('relu'),\n",
    "    BatchNormalization(),\n",
    "    Dropout(0.5),\n",
    "    \n",
    "    # Output layer\n",
    "    Dense(10),\n",
    "    Activation('softmax'),\n",
    "])\n",
    "\n",
    "simple_do.summary()"
   ]
  },
  {
   "cell_type": "code",
   "execution_count": 17,
   "metadata": {
    "hidden": true,
    "scrolled": true
   },
   "outputs": [
    {
     "name": "stdout",
     "output_type": "stream",
     "text": [
      "Epoch 1/5\n",
      "25/25 [==============================] - 0s - loss: 2.3709 - acc: 0.2687 - val_loss: 2.0026 - val_acc: 0.4850\n",
      "Epoch 2/5\n",
      "25/25 [==============================] - 0s - loss: 1.4289 - acc: 0.5337 - val_loss: 1.2398 - val_acc: 0.6750\n",
      "Epoch 3/5\n",
      "25/25 [==============================] - 0s - loss: 1.0845 - acc: 0.6600 - val_loss: 1.0022 - val_acc: 0.7450\n",
      "Epoch 4/5\n",
      "25/25 [==============================] - 0s - loss: 0.9752 - acc: 0.7075 - val_loss: 0.8951 - val_acc: 0.7650\n",
      "Epoch 5/5\n",
      "25/25 [==============================] - 0s - loss: 0.8595 - acc: 0.7200 - val_loss: 0.8284 - val_acc: 0.7850\n",
      "Epoch 1/10\n",
      "25/25 [==============================] - 0s - loss: 0.7884 - acc: 0.7475 - val_loss: 0.8265 - val_acc: 0.8000\n",
      "Epoch 2/10\n",
      "25/25 [==============================] - 0s - loss: 0.6705 - acc: 0.7937 - val_loss: 0.8016 - val_acc: 0.8150\n",
      "Epoch 3/10\n",
      "25/25 [==============================] - 0s - loss: 0.6326 - acc: 0.8125 - val_loss: 0.7857 - val_acc: 0.8000\n",
      "Epoch 4/10\n",
      "25/25 [==============================] - 0s - loss: 0.5981 - acc: 0.8137 - val_loss: 0.7690 - val_acc: 0.8150\n",
      "Epoch 5/10\n",
      "25/25 [==============================] - 0s - loss: 0.5840 - acc: 0.8225 - val_loss: 0.7684 - val_acc: 0.8300\n",
      "Epoch 6/10\n",
      "25/25 [==============================] - 0s - loss: 0.5267 - acc: 0.8425 - val_loss: 0.7601 - val_acc: 0.8300\n",
      "Epoch 7/10\n",
      "25/25 [==============================] - 0s - loss: 0.4763 - acc: 0.8725 - val_loss: 0.7803 - val_acc: 0.8200\n",
      "Epoch 8/10\n",
      "25/25 [==============================] - 0s - loss: 0.4649 - acc: 0.8638 - val_loss: 0.7966 - val_acc: 0.8300\n",
      "Epoch 9/10\n",
      "25/25 [==============================] - 0s - loss: 0.4019 - acc: 0.8825 - val_loss: 0.8199 - val_acc: 0.8400\n",
      "Epoch 10/10\n",
      "25/25 [==============================] - 0s - loss: 0.4313 - acc: 0.8687 - val_loss: 0.8210 - val_acc: 0.8450\n",
      "Epoch 1/5\n",
      "25/25 [==============================] - 0s - loss: 0.4259 - acc: 0.8775 - val_loss: 0.8256 - val_acc: 0.8500\n",
      "Epoch 2/5\n",
      "25/25 [==============================] - 0s - loss: 0.3703 - acc: 0.8975 - val_loss: 0.8289 - val_acc: 0.8400\n",
      "Epoch 3/5\n",
      "25/25 [==============================] - 0s - loss: 0.3393 - acc: 0.9025 - val_loss: 0.8110 - val_acc: 0.8450\n",
      "Epoch 4/5\n",
      "25/25 [==============================] - 0s - loss: 0.3435 - acc: 0.9125 - val_loss: 0.8108 - val_acc: 0.8450\n",
      "Epoch 5/5\n",
      "25/25 [==============================] - 0s - loss: 0.3166 - acc: 0.9200 - val_loss: 0.8205 - val_acc: 0.8400\n",
      " 32/200 [===>..........................] - ETA: 0s"
     ]
    },
    {
     "data": {
      "image/png": "[encoded data removed]",
      "text/plain": [
       "<matplotlib.figure.Figure at 0x7f186c5f37b8>"
      ]
     },
     "metadata": {},
     "output_type": "display_data"
    }
   ],
   "source": [
    "fit(simple_do, train_images, train_labels, val_images, val_labels)"
   ]
  },
  {
   "cell_type": "markdown",
   "metadata": {
    "heading_collapsed": true
   },
   "source": [
    "## Hidden"
   ]
  },
  {
   "cell_type": "code",
   "execution_count": 18,
   "metadata": {
    "hidden": true
   },
   "outputs": [
    {
     "name": "stdout",
     "output_type": "stream",
     "text": [
      "_________________________________________________________________\n",
      "Layer (type)                 Output Shape              Param #   \n",
      "=================================================================\n",
      "flatten_5 (Flatten)          (None, 784)               0         \n",
      "_________________________________________________________________\n",
      "batch_normalization_7 (Batch (None, 784)               3136      \n",
      "_________________________________________________________________\n",
      "dense_9 (Dense)              (None, 32)                25120     \n",
      "_________________________________________________________________\n",
      "activation_9 (Activation)    (None, 32)                0         \n",
      "_________________________________________________________________\n",
      "batch_normalization_8 (Batch (None, 32)                128       \n",
      "_________________________________________________________________\n",
      "dense_10 (Dense)             (None, 16)                528       \n",
      "_________________________________________________________________\n",
      "activation_10 (Activation)   (None, 16)                0         \n",
      "_________________________________________________________________\n",
      "batch_normalization_9 (Batch (None, 16)                64        \n",
      "_________________________________________________________________\n",
      "dense_11 (Dense)             (None, 10)                170       \n",
      "_________________________________________________________________\n",
      "activation_11 (Activation)   (None, 10)                0         \n",
      "=================================================================\n",
      "Total params: 29,146\n",
      "Trainable params: 27,482\n",
      "Non-trainable params: 1,664\n",
      "_________________________________________________________________\n"
     ]
    }
   ],
   "source": [
    "hidden = Sequential([\n",
    "    # Preprocess\n",
    "    Flatten(input_shape=(1, IMAGE_SIZE, IMAGE_SIZE)),\n",
    "    BatchNormalization(),\n",
    "    \n",
    "    # Input layer\n",
    "    Dense(32),\n",
    "    Activation('relu'),\n",
    "    BatchNormalization(),\n",
    "    \n",
    "    # Hidden layer\n",
    "    Dense(16),\n",
    "    Activation('relu'),\n",
    "    BatchNormalization(),\n",
    "    \n",
    "    # Output layer\n",
    "    Dense(10),\n",
    "    Activation('softmax'),\n",
    "])\n",
    "\n",
    "hidden.summary()"
   ]
  },
  {
   "cell_type": "code",
   "execution_count": 19,
   "metadata": {
    "hidden": true,
    "scrolled": false
   },
   "outputs": [
    {
     "name": "stdout",
     "output_type": "stream",
     "text": [
      "Epoch 1/5\n",
      "25/25 [==============================] - 0s - loss: 2.1598 - acc: 0.2337 - val_loss: 3.7827 - val_acc: 0.1950\n",
      "Epoch 2/5\n",
      "25/25 [==============================] - 0s - loss: 1.3521 - acc: 0.6138 - val_loss: 2.2395 - val_acc: 0.3100\n",
      "Epoch 3/5\n",
      "25/25 [==============================] - 0s - loss: 1.0982 - acc: 0.7263 - val_loss: 1.7047 - val_acc: 0.4900\n",
      "Epoch 4/5\n",
      "25/25 [==============================] - 0s - loss: 0.8971 - acc: 0.8137 - val_loss: 1.4380 - val_acc: 0.6200\n",
      "Epoch 5/5\n",
      "25/25 [==============================] - 0s - loss: 0.7412 - acc: 0.8675 - val_loss: 1.2690 - val_acc: 0.7100\n",
      "Epoch 1/10\n",
      "25/25 [==============================] - 0s - loss: 0.6185 - acc: 0.9000 - val_loss: 1.1552 - val_acc: 0.7450\n",
      "Epoch 2/10\n",
      "25/25 [==============================] - 0s - loss: 0.5297 - acc: 0.9175 - val_loss: 1.0603 - val_acc: 0.7750\n",
      "Epoch 3/10\n",
      "25/25 [==============================] - 0s - loss: 0.4630 - acc: 0.9113 - val_loss: 1.0270 - val_acc: 0.8000\n",
      "Epoch 4/10\n",
      "25/25 [==============================] - 0s - loss: 0.3934 - acc: 0.9413 - val_loss: 0.9954 - val_acc: 0.8150\n",
      "Epoch 5/10\n",
      "25/25 [==============================] - 0s - loss: 0.3605 - acc: 0.9475 - val_loss: 0.9480 - val_acc: 0.8100\n",
      "Epoch 6/10\n",
      "25/25 [==============================] - 0s - loss: 0.2861 - acc: 0.9713 - val_loss: 0.9303 - val_acc: 0.8100\n",
      "Epoch 7/10\n",
      "25/25 [==============================] - 0s - loss: 0.2804 - acc: 0.9575 - val_loss: 0.9302 - val_acc: 0.8150\n",
      "Epoch 8/10\n",
      "25/25 [==============================] - 0s - loss: 0.2284 - acc: 0.9725 - val_loss: 0.9252 - val_acc: 0.8100\n",
      "Epoch 9/10\n",
      "25/25 [==============================] - 0s - loss: 0.1938 - acc: 0.9788 - val_loss: 0.9135 - val_acc: 0.8100\n",
      "Epoch 10/10\n",
      "25/25 [==============================] - 0s - loss: 0.1939 - acc: 0.9775 - val_loss: 0.8972 - val_acc: 0.8250\n",
      "Epoch 1/5\n",
      "25/25 [==============================] - 0s - loss: 0.1591 - acc: 0.9838 - val_loss: 0.8858 - val_acc: 0.8200\n",
      "Epoch 2/5\n",
      "25/25 [==============================] - 0s - loss: 0.1458 - acc: 0.9875 - val_loss: 0.8988 - val_acc: 0.8300\n",
      "Epoch 3/5\n",
      "25/25 [==============================] - 0s - loss: 0.1214 - acc: 0.9850 - val_loss: 0.9138 - val_acc: 0.8250\n",
      "Epoch 4/5\n",
      "25/25 [==============================] - 0s - loss: 0.1102 - acc: 0.9962 - val_loss: 0.9361 - val_acc: 0.8200\n",
      "Epoch 5/5\n",
      "25/25 [==============================] - 0s - loss: 0.0835 - acc: 0.9975 - val_loss: 0.9135 - val_acc: 0.8200\n",
      " 32/200 [===>..........................] - ETA: 0s"
     ]
    },
    {
     "data": {
      "image/png": "[encoded data removed]",
      "text/plain": [
       "<matplotlib.figure.Figure at 0x7f186ba0c668>"
      ]
     },
     "metadata": {},
     "output_type": "display_data"
    }
   ],
   "source": [
    "fit(hidden, train_images, train_labels, val_images, val_labels)"
   ]
  },
  {
   "cell_type": "markdown",
   "metadata": {
    "heading_collapsed": true
   },
   "source": [
    "## Hidden + Dropout"
   ]
  },
  {
   "cell_type": "code",
   "execution_count": 20,
   "metadata": {
    "hidden": true
   },
   "outputs": [
    {
     "name": "stdout",
     "output_type": "stream",
     "text": [
      "_________________________________________________________________\n",
      "Layer (type)                 Output Shape              Param #   \n",
      "=================================================================\n",
      "flatten_6 (Flatten)          (None, 784)               0         \n",
      "_________________________________________________________________\n",
      "batch_normalization_10 (Batc (None, 784)               3136      \n",
      "_________________________________________________________________\n",
      "dense_12 (Dense)             (None, 32)                25120     \n",
      "_________________________________________________________________\n",
      "activation_12 (Activation)   (None, 32)                0         \n",
      "_________________________________________________________________\n",
      "batch_normalization_11 (Batc (None, 32)                128       \n",
      "_________________________________________________________________\n",
      "dropout_2 (Dropout)          (None, 32)                0         \n",
      "_________________________________________________________________\n",
      "dense_13 (Dense)             (None, 16)                528       \n",
      "_________________________________________________________________\n",
      "activation_13 (Activation)   (None, 16)                0         \n",
      "_________________________________________________________________\n",
      "batch_normalization_12 (Batc (None, 16)                64        \n",
      "_________________________________________________________________\n",
      "dropout_3 (Dropout)          (None, 16)                0         \n",
      "_________________________________________________________________\n",
      "dense_14 (Dense)             (None, 10)                170       \n",
      "_________________________________________________________________\n",
      "activation_14 (Activation)   (None, 10)                0         \n",
      "=================================================================\n",
      "Total params: 29,146\n",
      "Trainable params: 27,482\n",
      "Non-trainable params: 1,664\n",
      "_________________________________________________________________\n"
     ]
    }
   ],
   "source": [
    "hidden_do = Sequential([\n",
    "    # Preprocess\n",
    "    Flatten(input_shape=(1, IMAGE_SIZE, IMAGE_SIZE)),\n",
    "    BatchNormalization(),\n",
    "    \n",
    "    # Input layer\n",
    "    Dense(32),\n",
    "    Activation('relu'),\n",
    "    BatchNormalization(),\n",
    "    Dropout(0.25),\n",
    "    \n",
    "    # Hidden layer\n",
    "    Dense(16),\n",
    "    Activation('relu'),\n",
    "    BatchNormalization(),\n",
    "    Dropout(0.25),\n",
    "    \n",
    "    # Output layer\n",
    "    Dense(10),\n",
    "    Activation('softmax'),\n",
    "])\n",
    "\n",
    "hidden_do.summary()"
   ]
  },
  {
   "cell_type": "code",
   "execution_count": 21,
   "metadata": {
    "hidden": true,
    "scrolled": false
   },
   "outputs": [
    {
     "name": "stdout",
     "output_type": "stream",
     "text": [
      "Epoch 1/5\n",
      "25/25 [==============================] - 0s - loss: 2.3295 - acc: 0.2137 - val_loss: 2.2506 - val_acc: 0.2550\n",
      "Epoch 2/5\n",
      "25/25 [==============================] - 0s - loss: 1.7206 - acc: 0.4225 - val_loss: 1.7645 - val_acc: 0.3900\n",
      "Epoch 3/5\n",
      "25/25 [==============================] - 0s - loss: 1.4896 - acc: 0.4950 - val_loss: 1.5083 - val_acc: 0.5900\n",
      "Epoch 4/5\n",
      "25/25 [==============================] - 0s - loss: 1.3291 - acc: 0.5800 - val_loss: 1.3656 - val_acc: 0.6800\n",
      "Epoch 5/5\n",
      "25/25 [==============================] - 0s - loss: 1.1870 - acc: 0.6438 - val_loss: 1.2639 - val_acc: 0.7100\n",
      "Epoch 1/10\n",
      "25/25 [==============================] - 0s - loss: 1.0406 - acc: 0.6938 - val_loss: 1.1482 - val_acc: 0.7650\n",
      "Epoch 2/10\n",
      "25/25 [==============================] - 0s - loss: 1.0000 - acc: 0.7238 - val_loss: 1.0895 - val_acc: 0.7700\n",
      "Epoch 3/10\n",
      "25/25 [==============================] - 0s - loss: 0.8605 - acc: 0.7838 - val_loss: 1.0382 - val_acc: 0.7800\n",
      "Epoch 4/10\n",
      "25/25 [==============================] - 0s - loss: 0.8489 - acc: 0.7762 - val_loss: 1.0342 - val_acc: 0.7800\n",
      "Epoch 5/10\n",
      "25/25 [==============================] - 0s - loss: 0.7736 - acc: 0.7950 - val_loss: 1.0115 - val_acc: 0.7900\n",
      "Epoch 6/10\n",
      "25/25 [==============================] - 0s - loss: 0.7214 - acc: 0.8237 - val_loss: 0.9765 - val_acc: 0.7900\n",
      "Epoch 7/10\n",
      "25/25 [==============================] - 0s - loss: 0.6558 - acc: 0.8325 - val_loss: 0.9758 - val_acc: 0.7800\n",
      "Epoch 8/10\n",
      "25/25 [==============================] - 0s - loss: 0.6204 - acc: 0.8500 - val_loss: 0.9421 - val_acc: 0.8100\n",
      "Epoch 9/10\n",
      "25/25 [==============================] - 0s - loss: 0.5724 - acc: 0.8525 - val_loss: 0.9444 - val_acc: 0.8050\n",
      "Epoch 10/10\n",
      "25/25 [==============================] - 0s - loss: 0.5436 - acc: 0.8663 - val_loss: 0.9533 - val_acc: 0.8100\n",
      "Epoch 1/5\n",
      "25/25 [==============================] - 0s - loss: 0.5359 - acc: 0.8650 - val_loss: 0.9629 - val_acc: 0.7950\n",
      "Epoch 2/5\n",
      "25/25 [==============================] - 0s - loss: 0.4765 - acc: 0.8850 - val_loss: 0.9925 - val_acc: 0.7900\n",
      "Epoch 3/5\n",
      "25/25 [==============================] - 0s - loss: 0.4447 - acc: 0.8775 - val_loss: 0.9942 - val_acc: 0.8000\n",
      "Epoch 4/5\n",
      "25/25 [==============================] - 0s - loss: 0.4298 - acc: 0.8900 - val_loss: 1.0065 - val_acc: 0.8150\n",
      "Epoch 5/5\n",
      "25/25 [==============================] - 0s - loss: 0.3983 - acc: 0.8962 - val_loss: 1.0093 - val_acc: 0.7950\n",
      " 32/200 [===>..........................] - ETA: 0s"
     ]
    },
    {
     "data": {
      "image/png": "[encoded data removed]",
      "text/plain": [
       "<matplotlib.figure.Figure at 0x7f186acb1c50>"
      ]
     },
     "metadata": {},
     "output_type": "display_data"
    }
   ],
   "source": [
    "fit(hidden_do, train_images, train_labels, val_images, val_labels)"
   ]
  },
  {
   "cell_type": "markdown",
   "metadata": {
    "heading_collapsed": true
   },
   "source": [
    "## Hidden + Data Augumentation"
   ]
  },
  {
   "cell_type": "code",
   "execution_count": 34,
   "metadata": {
    "hidden": true
   },
   "outputs": [
    {
     "name": "stdout",
     "output_type": "stream",
     "text": [
      "_________________________________________________________________\n",
      "Layer (type)                 Output Shape              Param #   \n",
      "=================================================================\n",
      "flatten_11 (Flatten)         (None, 784)               0         \n",
      "_________________________________________________________________\n",
      "batch_normalization_24 (Batc (None, 784)               3136      \n",
      "_________________________________________________________________\n",
      "dense_26 (Dense)             (None, 32)                25120     \n",
      "_________________________________________________________________\n",
      "activation_26 (Activation)   (None, 32)                0         \n",
      "_________________________________________________________________\n",
      "batch_normalization_25 (Batc (None, 32)                128       \n",
      "_________________________________________________________________\n",
      "dense_27 (Dense)             (None, 16)                528       \n",
      "_________________________________________________________________\n",
      "activation_27 (Activation)   (None, 16)                0         \n",
      "_________________________________________________________________\n",
      "batch_normalization_26 (Batc (None, 16)                64        \n",
      "_________________________________________________________________\n",
      "dense_28 (Dense)             (None, 10)                170       \n",
      "_________________________________________________________________\n",
      "activation_28 (Activation)   (None, 10)                0         \n",
      "=================================================================\n",
      "Total params: 29,146\n",
      "Trainable params: 27,482\n",
      "Non-trainable params: 1,664\n",
      "_________________________________________________________________\n"
     ]
    }
   ],
   "source": [
    "hidden_aug = Sequential([\n",
    "    # Preprocess\n",
    "    Flatten(input_shape=(1, IMAGE_SIZE, IMAGE_SIZE)),\n",
    "    BatchNormalization(),\n",
    "    \n",
    "    # Input layer\n",
    "    Dense(32),\n",
    "    Activation('relu'),\n",
    "    BatchNormalization(),\n",
    "    \n",
    "    # Hidden layer\n",
    "    Dense(16),\n",
    "    Activation('relu'),\n",
    "    BatchNormalization(),\n",
    "    \n",
    "    # Output layer\n",
    "    Dense(10),\n",
    "    Activation('softmax'),\n",
    "])\n",
    "\n",
    "aug = ImageDataGenerator(\n",
    "    rotation_range=10,\n",
    "    zoom_range=(0.9, 1.2),\n",
    "    data_format='channels_first',\n",
    ")\n",
    "\n",
    "hidden_aug.summary()"
   ]
  },
  {
   "cell_type": "code",
   "execution_count": 36,
   "metadata": {
    "hidden": true
   },
   "outputs": [
    {
     "name": "stdout",
     "output_type": "stream",
     "text": [
      "Epoch 1/5\n",
      "25/25 [==============================] - 0s - loss: 0.4115 - acc: 0.8938 - val_loss: 0.4817 - val_acc: 0.8600\n",
      "Epoch 2/5\n",
      "25/25 [==============================] - 0s - loss: 0.3542 - acc: 0.9075 - val_loss: 0.4843 - val_acc: 0.8700\n",
      "Epoch 3/5\n",
      "25/25 [==============================] - 0s - loss: 0.3369 - acc: 0.9037 - val_loss: 0.4711 - val_acc: 0.8900\n",
      "Epoch 4/5\n",
      "25/25 [==============================] - 0s - loss: 0.3225 - acc: 0.9138 - val_loss: 0.4528 - val_acc: 0.8800\n",
      "Epoch 5/5\n",
      "25/25 [==============================] - 0s - loss: 0.3135 - acc: 0.9088 - val_loss: 0.4693 - val_acc: 0.8500\n",
      "Epoch 1/10\n",
      "25/25 [==============================] - 0s - loss: 0.3180 - acc: 0.9025 - val_loss: 0.5047 - val_acc: 0.8500\n",
      "Epoch 2/10\n",
      "25/25 [==============================] - 0s - loss: 0.2932 - acc: 0.9012 - val_loss: 0.5200 - val_acc: 0.8600\n",
      "Epoch 3/10\n",
      "25/25 [==============================] - 0s - loss: 0.2656 - acc: 0.9300 - val_loss: 0.4807 - val_acc: 0.8800\n",
      "Epoch 4/10\n",
      "25/25 [==============================] - 0s - loss: 0.3007 - acc: 0.9125 - val_loss: 0.4321 - val_acc: 0.8750\n",
      "Epoch 5/10\n",
      "25/25 [==============================] - 0s - loss: 0.2443 - acc: 0.9312 - val_loss: 0.4387 - val_acc: 0.8800\n",
      "Epoch 6/10\n",
      "25/25 [==============================] - 0s - loss: 0.2823 - acc: 0.9288 - val_loss: 0.4235 - val_acc: 0.8750\n",
      "Epoch 7/10\n",
      "25/25 [==============================] - 0s - loss: 0.2577 - acc: 0.9213 - val_loss: 0.4352 - val_acc: 0.8850\n",
      "Epoch 8/10\n",
      "25/25 [==============================] - 0s - loss: 0.2317 - acc: 0.9288 - val_loss: 0.4604 - val_acc: 0.8650\n",
      "Epoch 9/10\n",
      "25/25 [==============================] - 0s - loss: 0.2518 - acc: 0.9250 - val_loss: 0.4450 - val_acc: 0.8950\n",
      "Epoch 10/10\n",
      "25/25 [==============================] - 0s - loss: 0.2238 - acc: 0.9337 - val_loss: 0.4308 - val_acc: 0.8900\n",
      "Epoch 1/5\n",
      "25/25 [==============================] - 0s - loss: 0.2341 - acc: 0.9325 - val_loss: 0.4495 - val_acc: 0.8950\n",
      "Epoch 2/5\n",
      "25/25 [==============================] - 0s - loss: 0.2348 - acc: 0.9250 - val_loss: 0.4226 - val_acc: 0.8900\n",
      "Epoch 3/5\n",
      "25/25 [==============================] - 0s - loss: 0.2243 - acc: 0.9312 - val_loss: 0.4463 - val_acc: 0.8800\n",
      "Epoch 4/5\n",
      "25/25 [==============================] - 0s - loss: 0.2161 - acc: 0.9325 - val_loss: 0.4381 - val_acc: 0.8900\n",
      "Epoch 5/5\n",
      "25/25 [==============================] - 0s - loss: 0.2129 - acc: 0.9363 - val_loss: 0.4681 - val_acc: 0.8750\n",
      " 32/200 [===>..........................] - ETA: 0s"
     ]
    },
    {
     "data": {
      "image/png": "[encoded data removed]",
      "text/plain": [
       "<matplotlib.figure.Figure at 0x7f186a371390>"
      ]
     },
     "metadata": {},
     "output_type": "display_data"
    }
   ],
   "source": [
    "fit(hidden_aug, train_images, train_labels, val_images, val_labels, gen=aug)"
   ]
  },
  {
   "cell_type": "markdown",
   "metadata": {
    "heading_collapsed": true
   },
   "source": [
    "## Convolution"
   ]
  },
  {
   "cell_type": "code",
   "execution_count": 54,
   "metadata": {
    "hidden": true
   },
   "outputs": [
    {
     "name": "stdout",
     "output_type": "stream",
     "text": [
      "_________________________________________________________________\n",
      "Layer (type)                 Output Shape              Param #   \n",
      "=================================================================\n",
      "batch_normalization_73 (Batc (None, 1, 28, 28)         4         \n",
      "_________________________________________________________________\n",
      "conv2d_48 (Conv2D)           (None, 32, 28, 28)        320       \n",
      "_________________________________________________________________\n",
      "batch_normalization_74 (Batc (None, 32, 28, 28)        128       \n",
      "_________________________________________________________________\n",
      "flatten_24 (Flatten)         (None, 25088)             0         \n",
      "_________________________________________________________________\n",
      "dense_26 (Dense)             (None, 10)                250890    \n",
      "=================================================================\n",
      "Total params: 251,342\n",
      "Trainable params: 251,276\n",
      "Non-trainable params: 66\n",
      "_________________________________________________________________\n"
     ]
    }
   ],
   "source": [
    "conv = Sequential([\n",
    "    BatchNormalization(axis=1, input_shape=(1, IMAGE_SIZE, IMAGE_SIZE)),\n",
    "    \n",
    "    Conv2D(32, (3, 3), padding='same', activation='relu'),\n",
    "    BatchNormalization(axis=1),\n",
    "\n",
    "    Flatten(),\n",
    "    Dense(10, activation='softmax'),\n",
    "])\n",
    "\n",
    "conv.summary()"
   ]
  },
  {
   "cell_type": "code",
   "execution_count": 55,
   "metadata": {
    "hidden": true,
    "scrolled": false
   },
   "outputs": [
    {
     "name": "stdout",
     "output_type": "stream",
     "text": [
      "Epoch 1/5\n",
      "25/25 [==============================] - 1s - loss: 2.4983 - acc: 0.6425 - val_loss: 0.9520 - val_acc: 0.6850\n",
      "Epoch 2/5\n",
      "25/25 [==============================] - 1s - loss: 0.6994 - acc: 0.8837 - val_loss: 0.7022 - val_acc: 0.7350\n",
      "Epoch 3/5\n",
      "25/25 [==============================] - 1s - loss: 0.1881 - acc: 0.9612 - val_loss: 0.5352 - val_acc: 0.8450\n",
      "Epoch 4/5\n",
      "25/25 [==============================] - 1s - loss: 0.1024 - acc: 0.9800 - val_loss: 0.6474 - val_acc: 0.7850\n",
      "Epoch 5/5\n",
      "25/25 [==============================] - 1s - loss: 0.0360 - acc: 0.9925 - val_loss: 0.4662 - val_acc: 0.8550\n",
      "Epoch 1/10\n",
      "25/25 [==============================] - 1s - loss: 0.0267 - acc: 0.9962 - val_loss: 0.4840 - val_acc: 0.8350\n",
      "Epoch 2/10\n",
      "25/25 [==============================] - 1s - loss: 0.0263 - acc: 0.9962 - val_loss: 0.4386 - val_acc: 0.8650\n",
      "Epoch 3/10\n",
      "25/25 [==============================] - 1s - loss: 0.0025 - acc: 1.0000 - val_loss: 0.4143 - val_acc: 0.8600\n",
      "Epoch 4/10\n",
      "25/25 [==============================] - 1s - loss: 0.0209 - acc: 0.9988 - val_loss: 0.3975 - val_acc: 0.8600\n",
      "Epoch 5/10\n",
      "25/25 [==============================] - 1s - loss: 0.0205 - acc: 0.9988 - val_loss: 0.3824 - val_acc: 0.8650\n",
      "Epoch 6/10\n",
      "25/25 [==============================] - 1s - loss: 0.0204 - acc: 0.9988 - val_loss: 0.3759 - val_acc: 0.8850\n",
      "Epoch 7/10\n",
      "25/25 [==============================] - 1s - loss: 0.0203 - acc: 0.9988 - val_loss: 0.3742 - val_acc: 0.8900\n",
      "Epoch 8/10\n",
      "25/25 [==============================] - 1s - loss: 0.0404 - acc: 0.9975 - val_loss: 0.3770 - val_acc: 0.9000\n",
      "Epoch 9/10\n",
      "25/25 [==============================] - 1s - loss: 1.3640e-04 - acc: 1.0000 - val_loss: 0.3838 - val_acc: 0.9000\n",
      "Epoch 10/10\n",
      "25/25 [==============================] - 1s - loss: 0.0203 - acc: 0.9988 - val_loss: 0.3914 - val_acc: 0.8950\n",
      "Epoch 1/5\n",
      "25/25 [==============================] - 1s - loss: 0.0203 - acc: 0.9988 - val_loss: 0.4020 - val_acc: 0.8950\n",
      "Epoch 2/5\n",
      "25/25 [==============================] - 1s - loss: 0.0203 - acc: 0.9988 - val_loss: 0.4122 - val_acc: 0.8950\n",
      "Epoch 3/5\n",
      "25/25 [==============================] - 1s - loss: 0.0203 - acc: 0.9988 - val_loss: 0.4230 - val_acc: 0.8950\n",
      "Epoch 4/5\n",
      "25/25 [==============================] - 1s - loss: 0.0203 - acc: 0.9988 - val_loss: 0.4344 - val_acc: 0.9000\n",
      "Epoch 5/5\n",
      "25/25 [==============================] - 1s - loss: 0.0203 - acc: 0.9988 - val_loss: 0.4451 - val_acc: 0.9050\n",
      "128/200 [==================>...........] - ETA: 0s"
     ]
    },
    {
     "data": {
      "image/png": "[encoded data removed]",
      "text/plain": [
       "<matplotlib.figure.Figure at 0x7f7db69f8240>"
      ]
     },
     "metadata": {},
     "output_type": "display_data"
    }
   ],
   "source": [
    "fit(conv, train_images, train_labels, val_images, val_labels)"
   ]
  },
  {
   "cell_type": "markdown",
   "metadata": {
    "heading_collapsed": true
   },
   "source": [
    "## Deep Convolution"
   ]
  },
  {
   "cell_type": "code",
   "execution_count": 58,
   "metadata": {
    "hidden": true
   },
   "outputs": [
    {
     "name": "stdout",
     "output_type": "stream",
     "text": [
      "_________________________________________________________________\n",
      "Layer (type)                 Output Shape              Param #   \n",
      "=================================================================\n",
      "batch_normalization_78 (Batc (None, 1, 28, 28)         4         \n",
      "_________________________________________________________________\n",
      "conv2d_51 (Conv2D)           (None, 32, 28, 28)        320       \n",
      "_________________________________________________________________\n",
      "batch_normalization_79 (Batc (None, 32, 28, 28)        128       \n",
      "_________________________________________________________________\n",
      "conv2d_52 (Conv2D)           (None, 32, 28, 28)        9248      \n",
      "_________________________________________________________________\n",
      "batch_normalization_80 (Batc (None, 32, 28, 28)        128       \n",
      "_________________________________________________________________\n",
      "max_pooling2d_31 (MaxPooling (None, 32, 14, 14)        0         \n",
      "_________________________________________________________________\n",
      "flatten_26 (Flatten)         (None, 6272)              0         \n",
      "_________________________________________________________________\n",
      "dense_28 (Dense)             (None, 10)                62730     \n",
      "=================================================================\n",
      "Total params: 72,558\n",
      "Trainable params: 72,428\n",
      "Non-trainable params: 130\n",
      "_________________________________________________________________\n"
     ]
    }
   ],
   "source": [
    "conv_deep = Sequential([\n",
    "    BatchNormalization(axis=1, input_shape=(1, IMAGE_SIZE, IMAGE_SIZE)),\n",
    "    \n",
    "    Conv2D(32, (3, 3), padding='same', activation='relu'),\n",
    "    BatchNormalization(axis=1),\n",
    "    Conv2D(32, (3, 3), padding='same', activation='relu'),\n",
    "    BatchNormalization(axis=1),\n",
    "    MaxPooling2D(),\n",
    "    \n",
    "    Flatten(),\n",
    "    Dense(10, activation='softmax'),\n",
    "])\n",
    "\n",
    "conv_deep.summary()"
   ]
  },
  {
   "cell_type": "code",
   "execution_count": 59,
   "metadata": {
    "hidden": true,
    "scrolled": true
   },
   "outputs": [
    {
     "name": "stdout",
     "output_type": "stream",
     "text": [
      "Epoch 1/5\n",
      "25/25 [==============================] - 4s - loss: 1.4159 - acc: 0.6362 - val_loss: 0.9274 - val_acc: 0.6450\n",
      "Epoch 2/5\n",
      "25/25 [==============================] - 4s - loss: 0.3211 - acc: 0.9163 - val_loss: 0.7076 - val_acc: 0.8300\n",
      "Epoch 3/5\n",
      "25/25 [==============================] - 4s - loss: 0.0872 - acc: 0.9775 - val_loss: 0.8617 - val_acc: 0.7350\n",
      "Epoch 4/5\n",
      "25/25 [==============================] - 4s - loss: 0.0472 - acc: 0.9925 - val_loss: 0.9247 - val_acc: 0.7100\n",
      "Epoch 5/5\n",
      "25/25 [==============================] - 4s - loss: 0.0332 - acc: 0.9975 - val_loss: 1.0908 - val_acc: 0.6450\n",
      "Epoch 1/10\n",
      "25/25 [==============================] - 4s - loss: 0.0277 - acc: 0.9988 - val_loss: 1.1441 - val_acc: 0.6250\n",
      "Epoch 2/10\n",
      "25/25 [==============================] - 4s - loss: 0.0249 - acc: 0.9988 - val_loss: 1.1132 - val_acc: 0.6400\n",
      "Epoch 3/10\n",
      "25/25 [==============================] - 4s - loss: 0.0440 - acc: 0.9975 - val_loss: 1.0742 - val_acc: 0.6700\n",
      "Epoch 4/10\n",
      "25/25 [==============================] - 4s - loss: 0.0233 - acc: 0.9988 - val_loss: 0.9860 - val_acc: 0.7050\n",
      "Epoch 5/10\n",
      "25/25 [==============================] - 4s - loss: 0.0028 - acc: 1.0000 - val_loss: 0.8818 - val_acc: 0.7400\n",
      "Epoch 6/10\n",
      "25/25 [==============================] - 4s - loss: 0.0226 - acc: 0.9988 - val_loss: 0.7692 - val_acc: 0.7500\n",
      "Epoch 7/10\n",
      "25/25 [==============================] - 4s - loss: 0.0223 - acc: 0.9988 - val_loss: 0.6735 - val_acc: 0.7750\n",
      "Epoch 8/10\n",
      "25/25 [==============================] - 4s - loss: 0.0424 - acc: 0.9975 - val_loss: 0.5829 - val_acc: 0.8000\n",
      "Epoch 9/10\n",
      "25/25 [==============================] - 4s - loss: 0.0018 - acc: 1.0000 - val_loss: 0.5024 - val_acc: 0.8350\n",
      "Epoch 10/10\n",
      "25/25 [==============================] - 4s - loss: 0.0421 - acc: 0.9975 - val_loss: 0.4497 - val_acc: 0.8500\n",
      "Epoch 1/5\n",
      "25/25 [==============================] - 4s - loss: 0.0015 - acc: 1.0000 - val_loss: 0.4005 - val_acc: 0.8850\n",
      "Epoch 2/5\n",
      "25/25 [==============================] - 4s - loss: 0.0417 - acc: 0.9975 - val_loss: 0.3737 - val_acc: 0.9000\n",
      "Epoch 3/5\n",
      "25/25 [==============================] - 4s - loss: 0.0013 - acc: 1.0000 - val_loss: 0.3470 - val_acc: 0.9100\n",
      "Epoch 4/5\n",
      "25/25 [==============================] - 4s - loss: 0.0415 - acc: 0.9975 - val_loss: 0.3309 - val_acc: 0.9250\n",
      "Epoch 5/5\n",
      "25/25 [==============================] - 4s - loss: 0.0214 - acc: 0.9988 - val_loss: 0.3261 - val_acc: 0.9200\n",
      "192/200 [===========================>..] - ETA: 0s"
     ]
    },
    {
     "data": {
      "image/png": "[encoded data removed]",
      "text/plain": [
       "<matplotlib.figure.Figure at 0x7f7d87391a20>"
      ]
     },
     "metadata": {},
     "output_type": "display_data"
    }
   ],
   "source": [
    "fit(conv_deep, train_images, train_labels, val_images, val_labels)"
   ]
  },
  {
   "cell_type": "markdown",
   "metadata": {
    "heading_collapsed": true
   },
   "source": [
    "## Deep Convolution + Dropout"
   ]
  },
  {
   "cell_type": "code",
   "execution_count": 52,
   "metadata": {
    "hidden": true,
    "scrolled": true
   },
   "outputs": [
    {
     "name": "stdout",
     "output_type": "stream",
     "text": [
      "_________________________________________________________________\n",
      "Layer (type)                 Output Shape              Param #   \n",
      "=================================================================\n",
      "batch_normalization_70 (Batc (None, 1, 28, 28)         4         \n",
      "_________________________________________________________________\n",
      "conv2d_46 (Conv2D)           (None, 32, 28, 28)        320       \n",
      "_________________________________________________________________\n",
      "batch_normalization_71 (Batc (None, 32, 28, 28)        128       \n",
      "_________________________________________________________________\n",
      "dropout_33 (Dropout)         (None, 32, 28, 28)        0         \n",
      "_________________________________________________________________\n",
      "conv2d_47 (Conv2D)           (None, 32, 28, 28)        9248      \n",
      "_________________________________________________________________\n",
      "batch_normalization_72 (Batc (None, 32, 28, 28)        128       \n",
      "_________________________________________________________________\n",
      "max_pooling2d_29 (MaxPooling (None, 32, 14, 14)        0         \n",
      "_________________________________________________________________\n",
      "dropout_34 (Dropout)         (None, 32, 14, 14)        0         \n",
      "_________________________________________________________________\n",
      "flatten_23 (Flatten)         (None, 6272)              0         \n",
      "_________________________________________________________________\n",
      "dense_25 (Dense)             (None, 10)                62730     \n",
      "=================================================================\n",
      "Total params: 72,558\n",
      "Trainable params: 72,428\n",
      "Non-trainable params: 130\n",
      "_________________________________________________________________\n"
     ]
    }
   ],
   "source": [
    "conv_deep_do = Sequential([\n",
    "    BatchNormalization(axis=1, input_shape=(1, IMAGE_SIZE, IMAGE_SIZE)),\n",
    "    \n",
    "    Conv2D(32, (3, 3), padding='same', activation='relu'),\n",
    "    BatchNormalization(axis=1),\n",
    "    Dropout(0.25),\n",
    "    Conv2D(32, (3, 3), padding='same', activation='relu'),\n",
    "    BatchNormalization(axis=1),\n",
    "    MaxPooling2D(),\n",
    "    Dropout(0.5),\n",
    "    \n",
    "    Flatten(),\n",
    "    Dense(10, activation='softmax'),\n",
    "])\n",
    "\n",
    "conv_deep_do.summary()"
   ]
  },
  {
   "cell_type": "code",
   "execution_count": 53,
   "metadata": {
    "hidden": true,
    "scrolled": true
   },
   "outputs": [
    {
     "name": "stdout",
     "output_type": "stream",
     "text": [
      "Epoch 1/5\n",
      "25/25 [==============================] - 5s - loss: 2.0932 - acc: 0.5363 - val_loss: 0.8663 - val_acc: 0.7500A: 1s - loss: 2.4255 - acc\n",
      "Epoch 2/5\n",
      "25/25 [==============================] - 5s - loss: 0.7432 - acc: 0.8087 - val_loss: 0.7055 - val_acc: 0.8200\n",
      "Epoch 3/5\n",
      "25/25 [==============================] - 5s - loss: 0.4920 - acc: 0.8700 - val_loss: 0.7250 - val_acc: 0.8000\n",
      "Epoch 4/5\n",
      "25/25 [==============================] - 5s - loss: 0.4046 - acc: 0.8862 - val_loss: 0.6906 - val_acc: 0.8100\n",
      "Epoch 5/5\n",
      "25/25 [==============================] - 5s - loss: 0.3417 - acc: 0.8925 - val_loss: 0.7356 - val_acc: 0.7600\n",
      "Epoch 1/10\n",
      "25/25 [==============================] - 5s - loss: 0.2693 - acc: 0.9250 - val_loss: 0.6173 - val_acc: 0.7900\n",
      "Epoch 2/10\n",
      "25/25 [==============================] - 5s - loss: 0.1360 - acc: 0.9537 - val_loss: 0.5771 - val_acc: 0.8250\n",
      "Epoch 3/10\n",
      "25/25 [==============================] - 5s - loss: 0.1574 - acc: 0.9525 - val_loss: 0.5459 - val_acc: 0.8200\n",
      "Epoch 4/10\n",
      "25/25 [==============================] - 5s - loss: 0.0958 - acc: 0.9612 - val_loss: 0.4372 - val_acc: 0.8800\n",
      "Epoch 5/10\n",
      "25/25 [==============================] - 5s - loss: 0.0995 - acc: 0.9688 - val_loss: 0.4365 - val_acc: 0.8550 ETA: 1s - loss: 0.0988 - ac\n",
      "Epoch 6/10\n",
      "25/25 [==============================] - 5s - loss: 0.0775 - acc: 0.9700 - val_loss: 0.3579 - val_acc: 0.8900\n",
      "Epoch 7/10\n",
      "25/25 [==============================] - 5s - loss: 0.0962 - acc: 0.9688 - val_loss: 0.3184 - val_acc: 0.8900\n",
      "Epoch 8/10\n",
      "25/25 [==============================] - 5s - loss: 0.0566 - acc: 0.9838 - val_loss: 0.2682 - val_acc: 0.9150\n",
      "Epoch 9/10\n",
      "25/25 [==============================] - 5s - loss: 0.0460 - acc: 0.9862 - val_loss: 0.2954 - val_acc: 0.9250\n",
      "Epoch 10/10\n",
      "25/25 [==============================] - 5s - loss: 0.0640 - acc: 0.9825 - val_loss: 0.2487 - val_acc: 0.9350\n",
      "Epoch 1/5\n",
      "25/25 [==============================] - 5s - loss: 0.0425 - acc: 0.9875 - val_loss: 0.2519 - val_acc: 0.9400\n",
      "Epoch 2/5\n",
      "25/25 [==============================] - 5s - loss: 0.0491 - acc: 0.9838 - val_loss: 0.2465 - val_acc: 0.9200\n",
      "Epoch 3/5\n",
      "25/25 [==============================] - 5s - loss: 0.0429 - acc: 0.9838 - val_loss: 0.3119 - val_acc: 0.9300\n",
      "Epoch 4/5\n",
      "25/25 [==============================] - 5s - loss: 0.0389 - acc: 0.9888 - val_loss: 0.2188 - val_acc: 0.9450\n",
      "Epoch 5/5\n",
      "25/25 [==============================] - 5s - loss: 0.0274 - acc: 0.9937 - val_loss: 0.2150 - val_acc: 0.9500\n",
      "192/200 [===========================>..] - ETA: 0s"
     ]
    },
    {
     "data": {
      "image/png": "[encoded data removed]",
      "text/plain": [
       "<matplotlib.figure.Figure at 0x7f7d98faef28>"
      ]
     },
     "metadata": {},
     "output_type": "display_data"
    }
   ],
   "source": [
    "fit(conv_deep_do, train_images, train_labels, val_images, val_labels)"
   ]
  },
  {
   "cell_type": "code",
   "execution_count": null,
   "metadata": {
    "collapsed": true,
    "hidden": true
   },
   "outputs": [],
   "source": []
  }
 ],
 "metadata": {
  "kernelspec": {
   "display_name": "Python 3",
   "language": "python",
   "name": "python3"
  },
  "language_info": {
   "codemirror_mode": {
    "name": "ipython",
    "version": 3
   },
   "file_extension": ".py",
   "mimetype": "text/x-python",
   "name": "python",
   "nbconvert_exporter": "python",
   "pygments_lexer": "ipython3",
   "version": "3.5.2"
  },
  "toc": {
   "colors": {
    "hover_highlight": "#DAA520",
    "navigate_num": "#000000",
    "navigate_text": "#333333",
    "running_highlight": "#FF0000",
    "selected_highlight": "#FFD700",
    "sidebar_border": "#EEEEEE",
    "wrapper_background": "#FFFFFF"
   },
   "moveMenuLeft": true,
   "nav_menu": {
    "height": "105px",
    "width": "338px"
   },
   "navigate_menu": true,
   "number_sections": true,
   "sideBar": true,
   "threshold": 4,
   "toc_cell": false,
   "toc_section_display": "block",
   "toc_window_display": false,
   "widenNotebook": false
  }
 },
 "nbformat": 4,
 "nbformat_minor": 2
}
